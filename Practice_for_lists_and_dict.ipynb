{
 "cells": [
  {
   "cell_type": "markdown",
   "id": "fcca5a06",
   "metadata": {},
   "source": [
    "## Lists"
   ]
  },
  {
   "cell_type": "code",
   "execution_count": 4,
   "id": "26868ebc",
   "metadata": {},
   "outputs": [],
   "source": [
    "my_first_list = [\"wandiya\", \"James\", 23, 1.83]"
   ]
  },
  {
   "cell_type": "code",
   "execution_count": 5,
   "id": "cb7e2f05",
   "metadata": {},
   "outputs": [
    {
     "name": "stdout",
     "output_type": "stream",
     "text": [
      "['wandiya', 'James', 23, 1.83]\n"
     ]
    }
   ],
   "source": [
    "print(my_first_list)"
   ]
  },
  {
   "cell_type": "code",
   "execution_count": 6,
   "id": "77c7fb27",
   "metadata": {},
   "outputs": [
    {
     "data": {
      "text/plain": [
       "list"
      ]
     },
     "execution_count": 6,
     "metadata": {},
     "output_type": "execute_result"
    }
   ],
   "source": [
    "type(my_first_list)"
   ]
  },
  {
   "cell_type": "code",
   "execution_count": 9,
   "id": "7d3cdd04",
   "metadata": {},
   "outputs": [],
   "source": [
    "my_second_list = [\"Datapwa\", \"James\", 20, 1.75]"
   ]
  },
  {
   "cell_type": "code",
   "execution_count": 10,
   "id": "71847c69",
   "metadata": {},
   "outputs": [],
   "source": [
    "my_third_list = [\"Enoch\",\"James\", 14,1.65]"
   ]
  },
  {
   "cell_type": "code",
   "execution_count": 11,
   "id": "1487b101",
   "metadata": {},
   "outputs": [],
   "source": [
    "my_family_list = [my_first_list, my_second_list, my_third_list]"
   ]
  },
  {
   "cell_type": "code",
   "execution_count": 12,
   "id": "7bea217e",
   "metadata": {},
   "outputs": [
    {
     "name": "stdout",
     "output_type": "stream",
     "text": [
      "[['wandiya', 'James', 23, 1.83], ['Datapwa', 'James', 20, 1.75], ['Enoch', 'James', 14, 1.65]]\n"
     ]
    }
   ],
   "source": [
    "print(my_family_list)"
   ]
  },
  {
   "cell_type": "code",
   "execution_count": 13,
   "id": "ca04b65e",
   "metadata": {},
   "outputs": [
    {
     "data": {
      "text/plain": [
       "list"
      ]
     },
     "execution_count": 13,
     "metadata": {},
     "output_type": "execute_result"
    }
   ],
   "source": [
    "type(my_family_list)"
   ]
  },
  {
   "cell_type": "markdown",
   "id": "a94b4edd",
   "metadata": {},
   "source": [
    "NB. A list contains a list of list, and other different types\n",
    "* List can be a container"
   ]
  },
  {
   "cell_type": "code",
   "execution_count": 14,
   "id": "cf8b8f3b",
   "metadata": {},
   "outputs": [
    {
     "name": "stdout",
     "output_type": "stream",
     "text": [
      "['wandiya', 'James', 23, 1.83]\n"
     ]
    }
   ],
   "source": [
    "print (my_family_list[0])"
   ]
  },
  {
   "cell_type": "code",
   "execution_count": 15,
   "id": "83cf5457",
   "metadata": {},
   "outputs": [
    {
     "name": "stdout",
     "output_type": "stream",
     "text": [
      "1.83\n"
     ]
    }
   ],
   "source": [
    "print(my_family_list[0][3])"
   ]
  },
  {
   "cell_type": "code",
   "execution_count": 20,
   "id": "38bb0578",
   "metadata": {},
   "outputs": [
    {
     "name": "stdout",
     "output_type": "stream",
     "text": [
      "1.83\n"
     ]
    }
   ],
   "source": [
    "print(my_family_list[0][-1])"
   ]
  },
  {
   "cell_type": "code",
   "execution_count": 21,
   "id": "037f6dd1",
   "metadata": {},
   "outputs": [
    {
     "data": {
      "text/plain": [
       "list"
      ]
     },
     "execution_count": 21,
     "metadata": {},
     "output_type": "execute_result"
    }
   ],
   "source": [
    "type(my_family_list[0])"
   ]
  },
  {
   "cell_type": "code",
   "execution_count": 22,
   "id": "7275224f",
   "metadata": {},
   "outputs": [],
   "source": [
    "my_1 = [\"wandiya\", \"James\", 23, 1.83]\n",
    "my_2 = [\"AIMS SN\", \"Python\", 14]"
   ]
  },
  {
   "cell_type": "code",
   "execution_count": 23,
   "id": "5f8fa371",
   "metadata": {},
   "outputs": [
    {
     "data": {
      "text/plain": [
       "['wandiya', 'James', 23, 1.83, 'AIMS SN', 'Python', 14]"
      ]
     },
     "execution_count": 23,
     "metadata": {},
     "output_type": "execute_result"
    }
   ],
   "source": [
    "my_1 + my_2"
   ]
  },
  {
   "cell_type": "code",
   "execution_count": 24,
   "id": "e5999fc9",
   "metadata": {},
   "outputs": [
    {
     "data": {
      "text/plain": [
       "['AIMS SN', 'Python', 14, 'wandiya', 'James', 23, 1.83]"
      ]
     },
     "execution_count": 24,
     "metadata": {},
     "output_type": "execute_result"
    }
   ],
   "source": [
    "my_2 + my_1"
   ]
  },
  {
   "cell_type": "code",
   "execution_count": 26,
   "id": "f084e6c8",
   "metadata": {},
   "outputs": [],
   "source": [
    "my_1.append(7)"
   ]
  },
  {
   "cell_type": "code",
   "execution_count": 27,
   "id": "9f8555e5",
   "metadata": {},
   "outputs": [
    {
     "data": {
      "text/plain": [
       "['wandiya', 'James', 23, 1.83, 7]"
      ]
     },
     "execution_count": 27,
     "metadata": {},
     "output_type": "execute_result"
    }
   ],
   "source": [
    "my_1"
   ]
  },
  {
   "cell_type": "code",
   "execution_count": 29,
   "id": "8745052a",
   "metadata": {},
   "outputs": [
    {
     "ename": "TypeError",
     "evalue": "'int' object is not iterable",
     "output_type": "error",
     "traceback": [
      "\u001b[0;31m---------------------------------------------------------------------------\u001b[0m",
      "\u001b[0;31mTypeError\u001b[0m                                 Traceback (most recent call last)",
      "\u001b[0;32m/tmp/ipykernel_7475/4163692272.py\u001b[0m in \u001b[0;36m<module>\u001b[0;34m\u001b[0m\n\u001b[0;32m----> 1\u001b[0;31m \u001b[0mmy_1\u001b[0m\u001b[0;34m.\u001b[0m\u001b[0mextend\u001b[0m\u001b[0;34m(\u001b[0m\u001b[0;36m6\u001b[0m\u001b[0;34m)\u001b[0m\u001b[0;34m\u001b[0m\u001b[0;34m\u001b[0m\u001b[0m\n\u001b[0m",
      "\u001b[0;31mTypeError\u001b[0m: 'int' object is not iterable"
     ]
    }
   ],
   "source": [
    "my_1.extend(6)"
   ]
  },
  {
   "cell_type": "code",
   "execution_count": 30,
   "id": "59630284",
   "metadata": {},
   "outputs": [],
   "source": [
    "my_1.extend([6])"
   ]
  },
  {
   "cell_type": "code",
   "execution_count": 31,
   "id": "16835a5c",
   "metadata": {},
   "outputs": [
    {
     "data": {
      "text/plain": [
       "['wandiya', 'James', 23, 1.83, 7, 6]"
      ]
     },
     "execution_count": 31,
     "metadata": {},
     "output_type": "execute_result"
    }
   ],
   "source": [
    "my_1"
   ]
  },
  {
   "cell_type": "markdown",
   "id": "3edc461c",
   "metadata": {},
   "source": [
    "NB. difference between append and extend: "
   ]
  },
  {
   "cell_type": "code",
   "execution_count": 32,
   "id": "9ce442af",
   "metadata": {},
   "outputs": [
    {
     "data": {
      "text/plain": [
       "['wandiya', 'James', 23, 1.83, 7, 6, 'wandiya', 'James', 23, 1.83, 7, 6]"
      ]
     },
     "execution_count": 32,
     "metadata": {},
     "output_type": "execute_result"
    }
   ],
   "source": [
    "2 * my_1"
   ]
  },
  {
   "cell_type": "code",
   "execution_count": 33,
   "id": "44d285f9",
   "metadata": {},
   "outputs": [
    {
     "ename": "TypeError",
     "evalue": "can't multiply sequence by non-int of type 'float'",
     "output_type": "error",
     "traceback": [
      "\u001b[0;31m---------------------------------------------------------------------------\u001b[0m",
      "\u001b[0;31mTypeError\u001b[0m                                 Traceback (most recent call last)",
      "\u001b[0;32m/tmp/ipykernel_7475/478307834.py\u001b[0m in \u001b[0;36m<module>\u001b[0;34m\u001b[0m\n\u001b[0;32m----> 1\u001b[0;31m \u001b[0;36m2.5\u001b[0m \u001b[0;34m*\u001b[0m \u001b[0mmy_1\u001b[0m\u001b[0;34m\u001b[0m\u001b[0;34m\u001b[0m\u001b[0m\n\u001b[0m",
      "\u001b[0;31mTypeError\u001b[0m: can't multiply sequence by non-int of type 'float'"
     ]
    }
   ],
   "source": [
    "2.5 * my_1"
   ]
  },
  {
   "cell_type": "markdown",
   "id": "89a20a77",
   "metadata": {},
   "source": [
    "## Dictionaries"
   ]
  },
  {
   "cell_type": "markdown",
   "id": "72a9ccfc",
   "metadata": {},
   "source": [
    "Dictionary is key value pairs. it is enclosed in curly braces.\n",
    "To access a dictionary. you must know the key"
   ]
  },
  {
   "cell_type": "code",
   "execution_count": 36,
   "id": "60579e63",
   "metadata": {},
   "outputs": [],
   "source": [
    "my_dict_1 = {'me': [\"wandiya\", \"James\", 23, 1.83], 'my_sister': [\"Maryam\", \"James\", 23, 1.83]}"
   ]
  },
  {
   "cell_type": "code",
   "execution_count": 37,
   "id": "0390f5be",
   "metadata": {},
   "outputs": [
    {
     "data": {
      "text/plain": [
       "{'me': ['wandiya', 'James', 23, 1.83],\n",
       " 'my_sister': ['Maryam', 'James', 23, 1.83]}"
      ]
     },
     "execution_count": 37,
     "metadata": {},
     "output_type": "execute_result"
    }
   ],
   "source": [
    "my_dict_1"
   ]
  },
  {
   "cell_type": "code",
   "execution_count": 38,
   "id": "d8b1c6ba",
   "metadata": {},
   "outputs": [
    {
     "data": {
      "text/plain": [
       "['wandiya', 'James', 23, 1.83]"
      ]
     },
     "execution_count": 38,
     "metadata": {},
     "output_type": "execute_result"
    }
   ],
   "source": [
    "my_dict_1 ['me']"
   ]
  },
  {
   "cell_type": "code",
   "execution_count": 43,
   "id": "09469b20",
   "metadata": {},
   "outputs": [],
   "source": [
    "my_dict_1 ['my_cousin'] = [\"Ziva\", \"Akiti\", 11, 1.03]"
   ]
  },
  {
   "cell_type": "code",
   "execution_count": 45,
   "id": "29a0495c",
   "metadata": {},
   "outputs": [
    {
     "data": {
      "text/plain": [
       "{'me': ['wandiya', 'James', 23, 1.83],\n",
       " 'my_sister': ['Maryam', 'James', 23, 1.83],\n",
       " 'my_cousin': ['Ziva', 'Akiti', 11, 1.03]}"
      ]
     },
     "execution_count": 45,
     "metadata": {},
     "output_type": "execute_result"
    }
   ],
   "source": [
    "my_dict_1"
   ]
  },
  {
   "cell_type": "code",
   "execution_count": 48,
   "id": "cd6e47dd",
   "metadata": {},
   "outputs": [],
   "source": [
    "my_dict_2 ={'me': [\"wandiya\", \"James\", 23, 1.83], \n",
    "            'my_sister': [\"Maryam\", \"James\", 23, 1.83],\n",
    "            'my_cousin' :[\"Ziva\", \"Akiti\", 11, 1.03]}"
   ]
  },
  {
   "cell_type": "code",
   "execution_count": 51,
   "id": "fe5c17e9",
   "metadata": {},
   "outputs": [
    {
     "data": {
      "text/plain": [
       "dict_items([('me', ['wandiya', 'James', 23, 1.83]), ('my_sister', ['Maryam', 'James', 23, 1.83]), ('my_cousin', ['Ziva', 'Akiti', 11, 1.03])])"
      ]
     },
     "execution_count": 51,
     "metadata": {},
     "output_type": "execute_result"
    }
   ],
   "source": [
    "my_dict_2.items ()"
   ]
  },
  {
   "cell_type": "code",
   "execution_count": 52,
   "id": "a819bfdf",
   "metadata": {},
   "outputs": [
    {
     "data": {
      "text/plain": [
       "dict_keys(['me', 'my_sister', 'my_cousin'])"
      ]
     },
     "execution_count": 52,
     "metadata": {},
     "output_type": "execute_result"
    }
   ],
   "source": [
    "my_dict_2.keys()"
   ]
  },
  {
   "cell_type": "code",
   "execution_count": 50,
   "id": "c88c8844",
   "metadata": {},
   "outputs": [],
   "source": [
    "#me and neighbour on the right\n",
    "my_dict_3 = {'me': [\"wandiya\", \"James\", 23, 1.83],\n",
    "            'Roy': [\"Roy Abalo\", 18, 1.60]}"
   ]
  },
  {
   "cell_type": "code",
   "execution_count": 53,
   "id": "987627d7",
   "metadata": {},
   "outputs": [],
   "source": [
    "# two neighbours on the left\n",
    "my_dict_4 = {'Eric': [\"Eric\", \"Akoto\", 21, 1.73],\n",
    "            'Gedeon': [\"Gedeon\", \"Lekounda\", 24, 1.83]}"
   ]
  },
  {
   "cell_type": "code",
   "execution_count": 66,
   "id": "198488ca",
   "metadata": {},
   "outputs": [],
   "source": [
    "my_dict_3.update(my_dict_4)"
   ]
  },
  {
   "cell_type": "code",
   "execution_count": 67,
   "id": "dd4b122f",
   "metadata": {},
   "outputs": [
    {
     "data": {
      "text/plain": [
       "{'me': ['wandiya', 'James', 23, 1.83],\n",
       " 'Roy': ['Roy Abalo', 18, 1.6],\n",
       " 'Eric': ['Eric', 'Akoto', 21, 1.73],\n",
       " 'Gedeon': ['Gedeon', 'Lekounda', 24, 1.83]}"
      ]
     },
     "execution_count": 67,
     "metadata": {},
     "output_type": "execute_result"
    }
   ],
   "source": [
    "my_dict_3"
   ]
  },
  {
   "cell_type": "code",
   "execution_count": null,
   "id": "dd124835",
   "metadata": {},
   "outputs": [],
   "source": []
  }
 ],
 "metadata": {
  "kernelspec": {
   "display_name": "Python 3 (ipykernel)",
   "language": "python",
   "name": "python3"
  },
  "language_info": {
   "codemirror_mode": {
    "name": "ipython",
    "version": 3
   },
   "file_extension": ".py",
   "mimetype": "text/x-python",
   "name": "python",
   "nbconvert_exporter": "python",
   "pygments_lexer": "ipython3",
   "version": "3.10.12"
  }
 },
 "nbformat": 4,
 "nbformat_minor": 5
}
