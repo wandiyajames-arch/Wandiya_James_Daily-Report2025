{
 "cells": [
  {
   "cell_type": "markdown",
   "metadata": {
    "id": "JgPFAnzidVB-"
   },
   "source": [
    "****\n",
    "\n",
    "# <center> <b> <span style=\"color:orange;\"> Python Proficiency for Scientific Computing and Data Science (PyPro-SCiDaS)  </span> </b></center>\n",
    "\n",
    "### <center> <b> <span style=\"color:green;\">An Initiation to Programming using Python (Init2Py) </span> </b></center>\n",
    "    \n"
   ]
  },
  {
   "cell_type": "markdown",
   "metadata": {
    "id": "tLJuNn_2dVB_"
   },
   "source": [
    "****\n",
    "\n",
    "# <center> <b> <span style=\"color:blue;\"> Lecture 7: Functions, Modules, and Packages </span> </b></center>\n",
    "\n",
    "\n",
    "****"
   ]
  },
  {
   "cell_type": "markdown",
   "metadata": {
    "id": "Wtw2SqnYdVB_"
   },
   "source": [
    "### <left> <b> <span style=\"color:brown;\"> Objective: </span> </b></left>\n",
    "\n",
    "\"This lecture aims to introduce the concepts of `functions`, `modules`, and `packages` in Python. We will explore the role and creation of `functions` for organizing and reusing code, delve into `modules` for structuring code into manageable files, and examine `packages` for grouping related modules. By understanding these components, you'll gain the skills to build modular and maintainable Python programs.\"\n",
    "****"
   ]
  },
  {
   "cell_type": "markdown",
   "metadata": {
    "id": "AZyW4b81dVB_"
   },
   "source": [
    "The concepts of `functions`, `modules`, and `packages` are foundational to writing effective and maintainable Python code.\n",
    "\n",
    "- **Functions** are vital for encapsulating and reusing blocks of code. They allow you to perform specific tasks and operations without repeating code, enhancing clarity and reducing errors.\n",
    "\n",
    "- **Modules** help in organizing related functions, classes, and variables into separate files. This modular approach simplifies code management and improves readability by keeping related components together and making code easier to debug and update.\n",
    "\n",
    "- **Packages** take modularity a step further by allowing you to group related modules into directories. This hierarchical structure supports the management of larger codebases, helps avoid name conflicts, and facilitates better dependency management.\n",
    "\n",
    "These elements are crucial for writing organized, scalable, and efficient code, making development more manageable and collaboration more effective."
   ]
  },
  {
   "cell_type": "markdown",
   "metadata": {
    "id": "cYEQ6qKvdVB_"
   },
   "source": [
    "## 0. Functions\n",
    "\n",
    "Simply defined, a function is a piece of code, a set of instructions organized to perform one or more well-defined tasks. In Python, functions are categorized into two types: built-in functions and user-defined functions.\n",
    "\n",
    "- **Built-in functions** are functions that are directly integrated into Python's standard library.\n",
    "- **User-defined functions** are written either by the current user or by other users."
   ]
  },
  {
   "cell_type": "markdown",
   "metadata": {
    "id": "mCutRj8IdVCA"
   },
   "source": [
    "### 0.0. Some built-in functions in Python\n",
    "\n",
    "- **The `print()` function**: As we already know, the **print()** function displays the values of specified objects on the screen:\n",
    "```python\n",
    "print(\"Hello\", \"everyone\")\n",
    "x = 12\n",
    "print(x)\n",
    "y = [1, \"Monday\", \"12\", 5, 3, \"test value\"]\n",
    "print(y)\n",
    "```\n",
    "You can replace the default separator (a space) with another character (or even no character) using the `sep` argument:\n",
    "```python\n",
    "print(\"Hello\", \"everyone\", sep=\"****\")\n",
    "print(\"Hello\", \"everyone\", sep=\"\")\n",
    "```    \n",
    "\n",
    "- **The `input()` function**: The **input()** function allows the user to enter a value for a given argument:\n",
    "```python\n",
    "prenom = input(\"Enter your first name: \")\n",
    "print(\"Hello,\", prenom)\n",
    "```\n",
    "```python\n",
    "print(\"Please enter any positive number: \", end=\" \")\n",
    "ch = input()\n",
    "num = int(ch)  # Convert the string to an integer\n",
    "print(\"The square of\", num, \"is\", num**2)\n",
    "```"
   ]
  },
  {
   "cell_type": "markdown",
   "metadata": {
    "id": "tMFgj2t6dVCA"
   },
   "source": [
    "**Note**: It is important to note that the `input()` function always returns a string. If you need the user to enter a numeric value, you will have to convert the entered value (which will be of type string) into a numeric type using built-in functions like `int()` (for integers) or `float()` (for floating-point numbers)."
   ]
  },
  {
   "cell_type": "markdown",
   "metadata": {
    "id": "PGeKms2mdVCA"
   },
   "source": [
    "### 0.1. User-defined functions\n",
    "\n",
    "To define a function in Python, use the `def` keyword to declare the function name. The general syntax for defining a function is as follows:\n",
    "\n",
    "```python\n",
    "def functionName([parameter1, parameter2, ..., parameterN]):\n",
    "    \n",
    "    \"\"\"Documentation for the function.\"\"\"\n",
    "    \n",
    "    <block_of_instructions>\n",
    "```\n",
    "\n",
    "In the function definition, the first string of characters (called a docstring) serves as documentation for the function, accessible via the interpreter using, for example, `help(functionName)`, or `functionName?` in *Jupyter*. It should be relevant, concise, and comprehensive. It may also include usage examples.         "
   ]
  },
  {
   "cell_type": "markdown",
   "metadata": {
    "id": "aTMU6TYOdVCB"
   },
   "source": [
    "#### 0.1.0. Definition of a simple function without arguments**\n",
    "\n",
    "The example below illustrates the definition of a simple function without arguments. The purpose of this function is to print the first 20 values of the multiplication table for 8.\n",
    "\n",
    "```python\n",
    "def print_multiples_of_eight():\n",
    "    \"\"\"Prints the first 20 multiples of 8.\"\"\"\n",
    "    for i in range(1, 21):\n",
    "        print(f\"8 x {i} = {8 * i}\")\n",
    "\n",
    "# Calling the function\n",
    "print_multiples_of_eight()\n",
    "```"
   ]
  },
  {
   "cell_type": "code",
   "execution_count": null,
   "metadata": {
    "id": "zN-bE0X8dVCC"
   },
   "outputs": [],
   "source": [
    "def multiplication_table_8():\n",
    "    \"\"\"\n",
    "    The purpose of this function is to display the first 20\n",
    "    values of the multiplication table for 8.\n",
    "    Input: None\n",
    "    Output: The multiplication table for 8\n",
    "    \"\"\"\n",
    "    n = 1\n",
    "    while n <= 20:\n",
    "        v = n * 8\n",
    "        print(n, 'x', 8, '=', v, sep=' ')\n",
    "        n = n + 1\n"
   ]
  },
  {
   "cell_type": "markdown",
   "metadata": {
    "id": "nPcBEcjZdVCC"
   },
   "source": [
    "To execute the function `multiplication_table_8()` that we just defined, simply reference it by its name as follows (anywhere in the main program):\n",
    "\n",
    "```python\n",
    "multiplication_table_8()\n",
    "```"
   ]
  },
  {
   "cell_type": "code",
   "execution_count": null,
   "metadata": {
    "id": "T_1QVAwgdVCD"
   },
   "outputs": [],
   "source": [
    "multiplication_table_8()  # Calls the function tableMultiplication8()"
   ]
  },
  {
   "cell_type": "code",
   "execution_count": null,
   "metadata": {
    "id": "KGxH9m4tdVCD"
   },
   "outputs": [],
   "source": [
    "def print_multiples_of_eight():\n",
    "    \"\"\"Prints the first 20 multiples of 8.\"\"\"\n",
    "    for i in range(1, 21):\n",
    "        print(f\"8 x {i} = {8 * i}\")\n",
    "print_multiples_of_eight()"
   ]
  },
  {
   "cell_type": "markdown",
   "metadata": {
    "id": "W6mDXvdjdVCD"
   },
   "source": [
    "****  \n",
    "<left> <b> <span style=\"color:brown;\">Exercise: </span> </b></left>\n",
    "\n",
    "Propose a version of the function `tableMultiplication8()` using a `for` loop.  \n",
    "****"
   ]
  },
  {
   "cell_type": "markdown",
   "metadata": {
    "id": "YJJDrgN_dVCD"
   },
   "source": [
    "#### 0.1.1.  Définition d'une fonction dont les arguments sont des paramètres\n",
    "A parameter is a variable that takes a constant value. In the previous example, we created a multiplication table for 8. We can generalize this function so that it returns the multiplication table for any specified number as an argument. Since these numbers are parameters, we need to define a function where the arguments are parameters. See the example below:"
   ]
  },
  {
   "cell_type": "code",
   "execution_count": null,
   "metadata": {
    "id": "e6liqxNgdVCD"
   },
   "outputs": [],
   "source": [
    "def tableMultiplication(base):\n",
    "    n = 1\n",
    "    while n <=20 :\n",
    "        v=n*base\n",
    "        print(n, 'x', base, '=', v, sep =' ')\n",
    "        n = n +1"
   ]
  },
  {
   "cell_type": "code",
   "execution_count": null,
   "metadata": {
    "id": "yqNIkCh2dVCD"
   },
   "outputs": [],
   "source": [
    "tableMultiplication(2) # returns the multiplication table for 2\n",
    "print(\"============================\\n\")\n",
    "tableMultiplication(8) # returns the multiplication table for 8\n",
    "print(\"============================\\n\")\n",
    "tableMultiplication(11) # returns the multiplication table for 11"
   ]
  },
  {
   "cell_type": "code",
   "execution_count": null,
   "metadata": {
    "id": "sCAUThYfdVCE"
   },
   "outputs": [],
   "source": [
    "# An example with a nicer display:\n",
    "\n",
    "\n",
    "def multiplication_table(n):\n",
    "    \"\"\"\n",
    "    The purpose of this function is to display the multiplication table for a given number `n`.\n",
    "    Input: n (int) - The number for which the multiplication table will be generated.\n",
    "    Output: The multiplication table for `n`.\n",
    "    \"\"\"\n",
    "    print(f\"Multiplication Table for {n}:\")\n",
    "    print(\"=\" * 25)\n",
    "    for i in range(1, 21):\n",
    "        result = i * n\n",
    "        print(f\"{i:2} x {n:2} = {result:3}\")\n",
    "    print(\"=\" * 25)\n",
    "\n",
    "# Example usage:\n",
    "multiplication_table(8)\n"
   ]
  },
  {
   "cell_type": "markdown",
   "metadata": {
    "id": "yoJTlrXAdVCE"
   },
   "source": [
    "#### 0.1.2.  One or More Parameters, No Return\n",
    "\n",
    "Example without the `return` statement, often referred to as a **procedure**. In this case, the function implicitly returns the value `None`:\n",
    "\n",
    "```python\n",
    "def table(base, start, end):\n",
    "    \"\"\"Displays the multiplication table of <base> from <start> to <end>.\"\"\"\n",
    "    n = start\n",
    "    while n <= end:\n",
    "        print(n, 'x', base, '=', n * base, end=\" \")\n",
    "        n += 1\n",
    "```\n",
    "\n",
    "```python\n",
    "# Example call:\n",
    "table(7, 2, 11)\n",
    "# 2 x 7 = 14 3 x 7 = 21 4 x 7 = 28 5 x 7 = 35 6 x 7 = 42\n",
    "# 7 x 7 = 49 8 x 7 = 56 9 x 7 = 63 10 x 7 = 70 11 x 7 = 77\n",
    "```\n",
    "\n",
    "---"
   ]
  },
  {
   "cell_type": "code",
   "execution_count": null,
   "metadata": {
    "id": "L_xUqQEQdVCE"
   },
   "outputs": [],
   "source": [
    "def table(base, start, end):\n",
    "    \"\"\"Displays the multiplication table of <base> from <start> to <end>.\"\"\"\n",
    "    n = start\n",
    "    while n <= end:\n",
    "        print(n, 'x', base, '=', n * base, end=\" \")\n",
    "        n += 1\n",
    "table(7, 2, 11)"
   ]
  },
  {
   "cell_type": "code",
   "execution_count": null,
   "metadata": {
    "id": "Y8wVYeKDdVCE"
   },
   "outputs": [],
   "source": [
    "# Cool display\n",
    "\n",
    "def table(base, start, end):\n",
    "    \"\"\"Displays the multiplication table of <base> from <start> to <end>.\"\"\"\n",
    "    print(f\"Multiplication Table for {base}:\")\n",
    "    print(f\"{'Number':<10}{'Result':<10}\")\n",
    "    print(\"-\" * 20)\n",
    "    for n in range(start, end + 1):\n",
    "        print(f\"{n:<10}{n * base:<10}\")\n",
    "\n",
    "# Example call:\n",
    "table(7, 2, 11)"
   ]
  },
  {
   "cell_type": "markdown",
   "metadata": {
    "id": "nrZyuqMydVCE"
   },
   "source": [
    "#### One or more parameters, use of Return\n",
    "\n",
    "- Example with a single `return`:\n",
    "\n",
    "```python\n",
    "def square(x):\n",
    "    \"\"\"\n",
    "    Calculate the square of a number.\n",
    "\n",
    "    Args:\n",
    "    x (float): The number to be squared.\n",
    "\n",
    "    Returns:\n",
    "    float: The square of the input number.\n",
    "    \"\"\"\n",
    "    return x**2\n",
    "\n",
    "def squareArea(r):\n",
    "    \"\"\"\n",
    "    Calculate the area of a square given the length of its side.\n",
    "\n",
    "    Args:\n",
    "    r (float): The length of the side of the square.\n",
    "\n",
    "    Returns:\n",
    "    float: The area of the square.\n",
    "    \"\"\"\n",
    "    return square(r)\n",
    "\n",
    "# Input for the side length and display of the area\n",
    "side = float(input('Side: '))\n",
    "print(\"Square area =\", squareArea(side))\n",
    "\n",
    "```"
   ]
  },
  {
   "cell_type": "code",
   "execution_count": null,
   "metadata": {
    "id": "ys_gEnQhdVCE"
   },
   "outputs": [],
   "source": [
    "def square(x):\n",
    "    \"\"\"\n",
    "    Calculate the square of a number.\n",
    "\n",
    "    Args:\n",
    "    x (float): The number to be squared.\n",
    "\n",
    "    Returns:\n",
    "    float: The square of the input number.\n",
    "    \"\"\"\n",
    "    return x**2\n",
    "\n",
    "def squareArea(r):\n",
    "    \"\"\"\n",
    "    Calculate the area of a square given the length of its side.\n",
    "\n",
    "    Args:\n",
    "    r (float): The length of the side of the square.\n",
    "\n",
    "    Returns:\n",
    "    float: The area of the square.\n",
    "    \"\"\"\n",
    "    return square(r)\n",
    "\n",
    "# Input for the side length and display of the area\n",
    "side = float(input('Side: '))\n",
    "print(\"Square area =\", squareArea(side))"
   ]
  },
  {
   "cell_type": "markdown",
   "metadata": {
    "id": "eCjR2BhVdVCE"
   },
   "source": [
    "- Example with multiple returns:\n",
    "\n",
    "```python\n",
    "PI = 3.14\n",
    "\n",
    "def surfaceVolumeSphere(r):\n",
    "    \"\"\"\n",
    "    Calculate the surface area and volume of a sphere.\n",
    "\n",
    "    Args:\n",
    "    r (float): The radius of the sphere.\n",
    "\n",
    "    Returns:\n",
    "    tuple: A tuple containing the surface area and volume of the sphere.\n",
    "    \"\"\"\n",
    "    surf = 4.0 * PI * r**2\n",
    "    vol = surf * r / 3\n",
    "    return surf, vol\n",
    "\n",
    "```\n",
    "\n",
    "\n",
    "```python\n",
    "# Main program\n",
    "radius = float(input('Radius: '))\n",
    "s, v = surfaceVolumeSphere(radius)\n",
    "print(\"Sphere with surface {:g} and volume {:g}\".format(s, v))\n",
    "```"
   ]
  },
  {
   "cell_type": "code",
   "execution_count": null,
   "metadata": {
    "id": "5T66gJVKdVCE"
   },
   "outputs": [],
   "source": [
    "PI = 3.14\n",
    "\n",
    "def surfaceVolumeSphere(r):\n",
    "    \"\"\"\n",
    "    Calculate the surface area and volume of a sphere.\n",
    "\n",
    "    Args:\n",
    "    r (float): The radius of the sphere.\n",
    "\n",
    "    Returns:\n",
    "    tuple: A tuple containing the surface area and volume of the sphere.\n",
    "    \"\"\"\n",
    "    surf = 4.0 * PI * r**2\n",
    "    vol = surf * r / 3\n",
    "    return surf, vol\n",
    "\n",
    "radius = float(input('Radius: '))\n",
    "s, v = surfaceVolumeSphere(radius)\n",
    "print(\"Sphere with surface {:g} and volume {:g}\".format(s, v))"
   ]
  },
  {
   "cell_type": "markdown",
   "metadata": {
    "id": "e2_Lz_w1dVCF"
   },
   "source": [
    "### 0.2. **Passing a Function as a Parameter**\n",
    "\n",
    "```python\n",
    "def tabulate(function, lowerBound, upperBound, numSteps):\n",
    "    \"\"\"Display the values of <function>. Conditions: (lowerBound < upperBound) and (numSteps > 0)\"\"\"\n",
    "    h, x = (upperBound - lowerBound) / float(numSteps), lowerBound\n",
    "    while x <= upperBound:\n",
    "        y = function(x)\n",
    "        print(\"f({:.2f}) = {:.2f}\".format(x, y))\n",
    "        x += h\n",
    "```\n",
    "\n",
    "```python\n",
    "def myFunction(x):\n",
    "    return 2 * x**3 + x - 5\n",
    "```\n",
    "```python\n",
    "tabulate(myFunction, -5, 5, 10)\n",
    "# f(-5.00) = -260.00\n",
    "# f(-4.00) = -137.00\n",
    "# ...\n",
    "# f(5.00) = 250.00\n",
    "```"
   ]
  },
  {
   "cell_type": "code",
   "execution_count": null,
   "metadata": {
    "id": "whfbwjXRdVCF"
   },
   "outputs": [],
   "source": [
    "def tabulate(function, lowerBound, upperBound, numSteps):\n",
    "    \"\"\"Display the values of <function>. Conditions: (lowerBound < upperBound) and (numSteps > 0)\"\"\"\n",
    "    h, x = (upperBound - lowerBound) / float(numSteps), lowerBound\n",
    "    while x <= upperBound:\n",
    "        y = function(x)\n",
    "        print(\"f({:.2f}) = {:.2f}\".format(x, y))\n",
    "        x += h\n",
    "\n",
    "\n",
    "def myFunction(x):\n",
    "    return 2 * x**3 + x - 5\n",
    "\n",
    "\n",
    "tabulate(myFunction, -5, 5, 10)\n"
   ]
  },
  {
   "cell_type": "markdown",
   "metadata": {
    "id": "o_xLWZ56dVCF"
   },
   "source": [
    "### Improved Display and Explanation\n",
    "\n",
    "Here’s the improved version of the code with a more structured and readable output, followed by an explanation:\n",
    "\n",
    "```python\n",
    "def tabulate(function, lower_bound, upper_bound, num_steps):\n",
    "    \"\"\"\n",
    "    Displays the values of <function> within the range from <lower_bound> to <upper_bound>.\n",
    "    The function is evaluated at evenly spaced points determined by <num_steps>.\n",
    "    \n",
    "    Parameters:\n",
    "    function (callable): The function to be tabulated.\n",
    "    lower_bound (float): The starting point of the range.\n",
    "    upper_bound (float): The ending point of the range.\n",
    "    num_steps (int): The number of intervals in the range.\n",
    "    \n",
    "    Conditions:\n",
    "    - lower_bound < upper_bound\n",
    "    - num_steps > 0\n",
    "    \"\"\"\n",
    "    step_size = (upper_bound - lower_bound) / float(num_steps)\n",
    "    x = lower_bound\n",
    "    \n",
    "    print(\"Tabulation of the function from {:.2f} to {:.2f} with {} steps:\".format(lower_bound, upper_bound, num_steps))\n",
    "    print(\"----------------------------------------------------------\")\n",
    "    \n",
    "    while x <= upper_bound:\n",
    "        y = function(x)\n",
    "        print(\"f({:+.2f}) = {:+.2f}\".format(x, y))\n",
    "        x += step_size\n",
    "\n",
    "def my_function(x):\n",
    "    \"\"\"A sample function: f(x) = 2x^3 + x - 5\"\"\"\n",
    "    return 2 * x**3 + x - 5\n",
    "\n",
    "# Tabulate the function my_function from -5 to 5 with 10 steps\n",
    "tabulate(my_function, -5, 5, 10)\n",
    "```\n",
    "\n",
    "### Example Output:\n",
    "```\n",
    "Tabulation of the function from -5.00 to 5.00 with 10 steps:\n",
    "----------------------------------------------------------\n",
    "f(-5.00) = -260.00\n",
    "f(-4.00) = -137.00\n",
    "f(-3.00) = -68.00\n",
    "f(-2.00) = -27.00\n",
    "f(-1.00) = -8.00\n",
    "f(+0.00) = -5.00\n",
    "f(+1.00) = -2.00\n",
    "f(+2.00) = +19.00\n",
    "f(+3.00) = +82.00\n",
    "f(+4.00) = +203.00\n",
    "f(+5.00) = +395.00\n",
    "```\n",
    "\n",
    "### Explanation:\n",
    "\n",
    "1. **Function Parameters:**\n",
    "   - **`function`**: This parameter takes a function as its value. In the example, `my_function` is passed, which defines the mathematical expression \\(f(x) = 2x^3 + x - 5\\).\n",
    "   - **`lower_bound`**: The starting point of the range where the function will be evaluated.\n",
    "   - **`upper_bound`**: The endpoint of the range.\n",
    "   - **`num_steps`**: The number of intervals between the lower and upper bounds, determining how many times the function will be evaluated.\n",
    "\n",
    "2. **Step Size Calculation:**\n",
    "   - The **`step_size`** is calculated by dividing the difference between `upper_bound` and `lower_bound` by the number of steps (`num_steps`). This determines how much `x` will increment on each loop iteration.\n",
    "\n",
    "3. **Looping and Evaluation:**\n",
    "   - A `while` loop iterates from `lower_bound` to `upper_bound`, calculating the function value `y` at each point `x`.\n",
    "   - The loop prints each evaluated pair `(x, y)` in a well-formatted string, showing the results of the function evaluation.\n",
    "\n",
    "4. **Output Formatting:**\n",
    "   - The output is formatted to display the values with two decimal places for clarity and readability. The plus (`+`) sign before the numbers ensures both positive and negative signs are displayed.\n",
    "\n",
    "This structure makes it easy to understand how the function behaves over a specified range, providing clear and organized output."
   ]
  },
  {
   "cell_type": "code",
   "execution_count": null,
   "metadata": {
    "id": "Rc61qIhGdVCF"
   },
   "outputs": [],
   "source": [
    "def tabulate(function, lower_bound, upper_bound, num_steps):\n",
    "    \"\"\"\n",
    "    Displays the values of <function> within the range from <lower_bound> to <upper_bound>.\n",
    "    The function is evaluated at evenly spaced points determined by <num_steps>.\n",
    "\n",
    "    Parameters:\n",
    "    function (callable): The function to be tabulated.\n",
    "    lower_bound (float): The starting point of the range.\n",
    "    upper_bound (float): The ending point of the range.\n",
    "    num_steps (int): The number of intervals in the range.\n",
    "\n",
    "    Conditions:\n",
    "    - lower_bound < upper_bound\n",
    "    - num_steps > 0\n",
    "    \"\"\"\n",
    "    step_size = (upper_bound - lower_bound) / float(num_steps)\n",
    "    x = lower_bound\n",
    "\n",
    "    print(\"Tabulation of the function from {:.2f} to {:.2f} with {} steps:\".format(lower_bound, upper_bound, num_steps))\n",
    "    print(\"----------------------------------------------------------\")\n",
    "\n",
    "    while x <= upper_bound:\n",
    "        y = function(x)\n",
    "        print(\"f({:+.2f}) = {:+.2f}\".format(x, y))\n",
    "        x += step_size\n",
    "\n",
    "def my_function(x):\n",
    "    \"\"\"A sample function: f(x) = 2x^3 + x - 5\"\"\"\n",
    "    return 2 * x**3 + x - 5\n",
    "\n",
    "# Tabulate the function my_function from -5 to 5 with 10 steps\n",
    "tabulate(my_function, -5, 5, 10)"
   ]
  },
  {
   "cell_type": "markdown",
   "metadata": {
    "id": "GfrzdbitdVCG"
   },
   "source": [
    "### 0.3. Defining default values for function arguments**\n",
    "\n",
    "When defining a function, it is often recommended to set default values for certain arguments, especially optional ones. By defining default values for a function's arguments, it becomes possible to call the function with only some of the expected arguments. Here are some examples:\n",
    "\n",
    "```python\n",
    "def greeting(name, title='Monsieur'):\n",
    "    \"\"\"\n",
    "    Displays a greeting message with the given name and an optional title.\n",
    "    \n",
    "    Parameters:\n",
    "    name (str): The name of the person to greet.\n",
    "    title (str, optional): The title of the person (default is 'Monsieur').\n",
    "    \n",
    "    Returns:\n",
    "    None\n",
    "    \"\"\"\n",
    "    print(\"Bonjour\", title, name)\n",
    "```\n",
    "\n",
    "- **Explanation**:  \n",
    "  The `greeting` function has two arguments: `name` and `title`. A default value ('Monsieur') has been set for the `title` argument. Therefore, when the `greeting` function is called with only the `name` argument (omitting the `title` argument), the function will use the default value 'Monsieur'.\n",
    "\n",
    "\n",
    "\n",
    "\n"
   ]
  },
  {
   "cell_type": "code",
   "execution_count": null,
   "metadata": {
    "id": "ubbaZhXrdVCG"
   },
   "outputs": [],
   "source": [
    "def greeting(name, title='Monsieur'):\n",
    "    \"\"\"\n",
    "    Displays a greeting message with the given name and an optional title.\n",
    "\n",
    "    Parameters:\n",
    "    name (str): The name of the person to greet.\n",
    "    title (str, optional): The title of the person (default is 'Monsieur').\n",
    "\n",
    "    Returns:\n",
    "    None\n",
    "    \"\"\"\n",
    "    print(\"Bonjour\", title, name)"
   ]
  },
  {
   "cell_type": "markdown",
   "metadata": {
    "id": "0goCUwRfdVCG"
   },
   "source": [
    "**Example Usage:**\n",
    "\n",
    "```python\n",
    "greeting('Dupont')\n",
    "# Output: Bonjour Monsieur Dupont\n",
    "```"
   ]
  },
  {
   "cell_type": "code",
   "execution_count": null,
   "metadata": {
    "id": "obzBu8asdVCG"
   },
   "outputs": [],
   "source": [
    "greeting('Dupont')\n",
    "# Output: Bonjour Monsieur Dupont"
   ]
  },
  {
   "cell_type": "markdown",
   "metadata": {
    "id": "7y2owTOSdVCG"
   },
   "source": [
    "- **Explanation**:  \n",
    "  When the function is called with both arguments, the default value is overridden by the provided value."
   ]
  },
  {
   "cell_type": "markdown",
   "metadata": {
    "id": "5Nub2eAHdVCH"
   },
   "source": [
    "**Example:**\n",
    "\n",
    "```python\n",
    "greeting('Dupont', 'Mademoiselle')\n",
    "# Output: Bonjour Mademoiselle Dupont\n",
    "```"
   ]
  },
  {
   "cell_type": "code",
   "execution_count": null,
   "metadata": {
    "id": "2JFTgIXkdVCH"
   },
   "outputs": [],
   "source": [
    "greeting('Dupont', 'Mademoiselle')\n",
    "# Output: Bonjour Mademoiselle Dupont"
   ]
  },
  {
   "cell_type": "markdown",
   "metadata": {
    "id": "XDgcbZiYdVCH"
   },
   "source": [
    "- **Explanation**:  \n",
    "  By defining default values for a function's arguments, you can make the function calls more flexible, allowing it to be called with only a subset of the expected arguments when needed."
   ]
  },
  {
   "cell_type": "markdown",
   "metadata": {
    "id": "AAL_x429dVCH"
   },
   "source": [
    "\n",
    "**Note:**\n",
    "\n",
    "Arguments without default values must be specified before arguments with default values. If this rule is not followed, Python will raise an error during execution. For example, the following function definition is incorrect:\n",
    "\n",
    "```python\n",
    "def greeting(title='Monsieur', name):\n",
    "    \"\"\"\n",
    "    This function is incorrectly defined and will raise an error because the argument\n",
    "    with a default value ('title') comes before an argument without a default value ('name').\n",
    "    \n",
    "    Parameters:\n",
    "    title (str, optional): The title of the person (default is 'Monsieur').\n",
    "    name (str): The name of the person to greet.\n",
    "    \n",
    "    Returns:\n",
    "    None\n",
    "    \"\"\"\n",
    "```\n",
    "\n",
    "- **Explanation**:  \n",
    "  The `greeting` function is defined incorrectly because `title`, an argument with a default value, is placed before `name`, an argument without a default value. In Python, arguments without default values must precede those with default values to avoid a syntax error."
   ]
  },
  {
   "cell_type": "code",
   "execution_count": null,
   "metadata": {
    "id": "9A2DLsV4dVCH"
   },
   "outputs": [],
   "source": [
    "def salutation(titre='Monsieur', name):"
   ]
  },
  {
   "cell_type": "markdown",
   "metadata": {},
   "source": [
    "## Recursive function\n",
    "\n",
    "A function that **calls itself** to solve a problem by breaking it into smaller subproblems. It must have a **base case** to stop recursion.\n",
    "\n",
    "```python\n",
    "   def fact(n):\n",
    "    if n <= 1:           # base case\n",
    "        return 1\n",
    "    return n * fact(n-1) # recursive step\n",
    "```"
   ]
  },
  {
   "cell_type": "code",
   "execution_count": 1,
   "metadata": {},
   "outputs": [],
   "source": [
    "def fact(n):\n",
    "    if n <= 1:           # base case\n",
    "        return 1\n",
    "    return n * fact(n-1) # recursive step"
   ]
  },
  {
   "cell_type": "code",
   "execution_count": 2,
   "metadata": {},
   "outputs": [
    {
     "data": {
      "text/plain": [
       "6"
      ]
     },
     "execution_count": 2,
     "metadata": {},
     "output_type": "execute_result"
    }
   ],
   "source": [
    "fact(3)"
   ]
  },
  {
   "cell_type": "markdown",
   "metadata": {},
   "source": [
    "Here are two clean recursive sequence examples:\n",
    "\n",
    "### 1) Fibonacci sequence\n",
    "Defined by  \n",
    "$$F(0)=0,\\; F(1)=1,\\; F(n)=F(n-1)+F(n-2) for \\quad  n\\ge2$$.\n",
    "\n",
    "```python\n",
    "from functools import lru_cache\n",
    "\n",
    "@lru_cache(None)\n",
    "def fib(n):\n",
    "    if n <= 1:\n",
    "        return n\n",
    "    return fib(n-1) + fib(n-2)\n",
    "\n",
    "# first 10 terms\n",
    "print([fib(i) for i in range(10)])  # [0, 1, 1, 2, 3, 5, 8, 13, 21, 34]\n",
    "```\n",
    "\n",
    "### 2) Geometric sequence\n",
    "Defined by  \n",
    "$$ a_0 = a0,\\; a_n = r \\cdot a_{n-1}.$$\n",
    "\n",
    "```python\n",
    "def geom(n, a0=3, r=2):\n",
    "    if n == 0:\n",
    "        return a0\n",
    "    return r * geom(n-1, a0, r)\n",
    "\n",
    "# first 6 terms with a0=3, r=2: 3, 6, 12, 24, 48, 96\n",
    "print([geom(i, a0=3, r=2) for i in range(6)])\n",
    "```\n",
    "\n",
    "> Notes: Always include a base case (`n==0` or `n<=1`). In Python, deep recursion can hit the recursion limit; for large `n`, prefer iterative versions.\n"
   ]
  },
  {
   "cell_type": "markdown",
   "metadata": {},
   "source": [
    "### Recursive functions (why they matter)\n",
    "\n",
    "* **Natural fit for self-similar problems**: trees/graphs, nested folders, divide-and-conquer (binary search, mergesort, quicksort).\n",
    "* **Clear, math-like reasoning**: mirrors inductive definitions; base case + recursive step make correctness easier to argue.\n",
    "* **Compact code** for backtracking/combinatorics (paths, permutations, subsets).\n",
    "* **Trade-offs**: extra call overhead, possible stack overflows; Python has **no tail-call optimization**, so prefer iterative versions for deep recursions or performance-critical paths."
   ]
  },
  {
   "cell_type": "markdown",
   "metadata": {
    "id": "momKUtcAdVCH"
   },
   "source": [
    "### 0.4. Lambda Functions\n",
    "\n",
    "A lambda function is an anonymous function, meaning it is a function that consists of a block of instructions that can be called and reused like a regular function but without a name. Lambda functions are typically used for very short functions with few instructions, which do not require a full function definition using the `def` keyword.\n",
    "\n",
    "The general syntax for defining a lambda function is as follows:\n",
    "\n",
    "```python\n",
    "lambda arg1, arg2, ..., argN : instruction_block (or formula)\n",
    "```\n",
    "\n",
    "The example below illustrates the definition of a lambda function:\n",
    "\n",
    "```python\n",
    "lambda x, y : x * y\n",
    "```"
   ]
  },
  {
   "cell_type": "markdown",
   "metadata": {
    "id": "ks-sej-qdVCI"
   },
   "source": [
    "Notons toutefois que même si la fonction lambda n’est pas définie avec un nom, pour\n",
    "récupérer la valeur renvoyée, lors de l’appel de la fonction, il faut l’assigner à une nouvelle\n",
    "variable. L’exemple ci-dessous illustre l’appel de la fonction lambda précédente en prenant x=2\n",
    "et y=3.\n",
    "```python\n",
    "   x = lambda x, y : x * y\n",
    "   x(2,3)\n",
    "```"
   ]
  },
  {
   "cell_type": "code",
   "execution_count": null,
   "metadata": {
    "id": "gmJfO588dVCI"
   },
   "outputs": [],
   "source": [
    "x = lambda x, y : x * y\n",
    "x(2,3)"
   ]
  },
  {
   "cell_type": "code",
   "execution_count": 3,
   "metadata": {},
   "outputs": [
    {
     "name": "stdout",
     "output_type": "stream",
     "text": [
      "16\n",
      "8\n"
     ]
    }
   ],
   "source": [
    "# An advanced used of lambda function\n",
    "\n",
    "def power(n):\n",
    "    return lambda x: x ** n   # returns a function\n",
    "\n",
    "square = power(2)\n",
    "cube   = power(3)\n",
    "\n",
    "print(square(4))  # 16\n",
    "print(cube(2))    # 8"
   ]
  },
  {
   "cell_type": "code",
   "execution_count": 4,
   "metadata": {},
   "outputs": [
    {
     "name": "stdout",
     "output_type": "stream",
     "text": [
      "Cara\n"
     ]
    }
   ],
   "source": [
    "# Pick the student with the highest average quiz score\n",
    "students = [\n",
    "    {\"name\": \"Alice\", \"quiz\": [10, 8, 9]},\n",
    "    {\"name\": \"Bob\",   \"quiz\": [7, 6, 9]},\n",
    "    {\"name\": \"Cara\",  \"quiz\": [9, 10, 10]},\n",
    "]\n",
    "\n",
    "top_student = max(students, key=lambda d: sum(d[\"quiz\"]) / len(d[\"quiz\"]))\n",
    "print(top_student[\"name\"])  # Cara\n"
   ]
  },
  {
   "cell_type": "markdown",
   "metadata": {},
   "source": [
    "### `lambda` functions (why they matter)\n",
    "\n",
    "* **Pass behavior as data**: tiny anonymous functions make higher-order patterns ergonomic (`sorted(key=...)`, `min/max(key=...)`, `map`, `filter`, callbacks).\n",
    "* **Concise, one-off logic** without polluting the namespace with throwaway function names.\n",
    "* **Closures**: can capture surrounding variables to parameterize behavior on the fly.\n",
    "* **Trade-offs**: single-expression only; overuse can hurt readability—use `def` when logic grows or needs documentation/tests.\n",
    "\n",
    "**Rule of thumb:** use recursion when the problem is naturally recursive and depth is bounded; use `lambda` for short, local transformations—otherwise write a named `def` for clarity.\n"
   ]
  },
  {
   "cell_type": "markdown",
   "metadata": {
    "id": "dUIzH0HrdVCJ"
   },
   "source": [
    "<left> <b> <span style=\"color:red;\">\n",
    "Note: When we define variables inside a function, these variables are only accessible within that function itself. These variables are referred to as `« local »` to the function. However, when variables are defined outside of the function in the main program body, they are called `« global »` variables. The content of a global variable is visible and accessible from within a function, but the function cannot modify the value of the variable.</span> </b></left>\n",
    "\n",
    "```python\n",
    "def myFunction():\n",
    "    p = 20\n",
    "    print(p, q)\n",
    "\n",
    "p = 15\n",
    "q = 38\n",
    "\n",
    "print(p, q)  # Outputs: 15 38\n",
    "myFunction()  # Calls the function, Outputs: 20 38\n",
    "print(p, q)  # Outputs: 15 38\n",
    "```"
   ]
  },
  {
   "cell_type": "code",
   "execution_count": null,
   "metadata": {
    "id": "0eGOtvhqdVCJ"
   },
   "outputs": [],
   "source": [
    "def myFunction():\n",
    "    p = 20\n",
    "    print(p, q)\n",
    "\n",
    "p = 15\n",
    "q = 38\n",
    "\n",
    "print(p, q)  # Outputs: 15 38\n",
    "myFunction()  # Calls the function, Outputs: 20 38\n",
    "print(p, q)  # Outputs: 15 38\n"
   ]
  },
  {
   "cell_type": "markdown",
   "metadata": {
    "id": "NfOs04xydVCJ"
   },
   "source": [
    "**Explanation:**\n",
    "\n",
    "1. **Global and Local Variables:**\n",
    "   - The variables `p` and `q` are defined in the global scope, outside the function `myFunction()`. Hence, they are global variables.\n",
    "   - Inside `myFunction()`, a new variable `p` is defined with the value `20`. This `p` is local to the function and does not affect the global `p`.\n",
    "\n",
    "2. **Output Analysis:**\n",
    "   - **Before Function Call (`print(p, q)`):** This prints the global values of `p` and `q`, which are `15` and `38`, respectively.\n",
    "   - **Inside Function (`myFunction()`):** When `myFunction()` is called, it prints the local `p` (which is `20`) and the global `q` (which remains `38`). The local `p` inside the function shadows the global `p` but does not change it.\n",
    "   - **After Function Call (`print(p, q)`):** This again prints the global values of `p` and `q`, which are still `15` and `38`, as the local `p` inside the function did not alter the global `p`."
   ]
  },
  {
   "cell_type": "markdown",
   "metadata": {
    "id": "UdG1r8BDdVCJ"
   },
   "source": [
    "\n",
    "However, you can modify this default behavior by allowing the function to modify the value of a global variable. To do this, you must explicitly declare the variable as global within the function. Example:\n",
    "\n",
    "```python\n",
    "def myFunction():\n",
    "    global p\n",
    "    p = 20\n",
    "    print(p, q)\n",
    "\n",
    "p = 15\n",
    "q = 38\n",
    "\n",
    "print(p, q)  # Outputs: 15 38\n",
    "myFunction()  # Calls the function, Outputs: 20 38\n",
    "print(p, q)  # Outputs: 20 38\n",
    "```\n",
    "\n",
    "**Explanation:**\n",
    "\n",
    "1. **Global Declaration:**\n",
    "   - Inside `myFunction()`, the `global` keyword is used to indicate that `p` refers to the global variable `p`, not a new local variable.\n",
    "\n",
    "2. **Output Analysis:**\n",
    "   - **Before Function Call (`print(p, q)`):** This prints the global values of `p` and `q`, which are `15` and `38`, respectively.\n",
    "   - **Inside Function (`myFunction()`):** When `myFunction()` is called, it sets the global `p` to `20` and prints this new value of `p` along with the global `q` (which remains `38`).\n",
    "   - **After Function Call (`print(p, q)`):** This prints the updated global values of `p` and `q`, which are now `20` and `38`, respectively, reflecting the change made inside `myFunction()`."
   ]
  },
  {
   "cell_type": "code",
   "execution_count": null,
   "metadata": {
    "id": "4nrsJ-hodVCJ"
   },
   "outputs": [],
   "source": [
    "def myFunction():\n",
    "    global p\n",
    "    p = 20\n",
    "    print(p, q)\n",
    "\n",
    "p = 15\n",
    "q = 38\n",
    "\n",
    "print(p, q)  # Outputs: 15 38\n",
    "myFunction()  # Calls the function, Outputs: 20 38\n",
    "print(p, q)  # Outputs: 20 38"
   ]
  },
  {
   "cell_type": "markdown",
   "metadata": {
    "id": "9-_fesQidVCJ"
   },
   "source": [
    "### 0.5. Arbitrary number of arguments\n",
    "\n",
    "#### 0.5.0. Passing a Tuple"
   ]
  },
  {
   "cell_type": "code",
   "execution_count": null,
   "metadata": {
    "id": "kjCHJkHbdVCK"
   },
   "outputs": [],
   "source": [
    "def somme(*args):\n",
    "    \"\"\"Returns the sum of the <tuple>.\"\"\"\n",
    "    resultat = 0\n",
    "    for nombre in args:\n",
    "        resultat += nombre\n",
    "    return resultat\n",
    "\n",
    "# Example calls:\n",
    "print(somme(23)) # 23\n",
    "print(somme(23, 42, 13)) # 78\n"
   ]
  },
  {
   "cell_type": "markdown",
   "metadata": {
    "id": "J54WzTsudVCK"
   },
   "source": [
    "```python\n",
    "If the function has multiple arguments, the *tuple* is in the last position. It is also possible to pass a tuple (or actually a sequence) to the call, which will be unpacked into a list of parameters for a \"classic\" function:\n",
    "\n",
    "```python\n",
    "def somme(a, b, c):\n",
    "    return a + b + c\n",
    "\n",
    "# Example call:\n",
    "elements = (2, 4, 6)\n",
    "print(somme(*elements)) # 12\n",
    "```"
   ]
  },
  {
   "cell_type": "markdown",
   "metadata": {
    "id": "I03sRObidVCK"
   },
   "source": [
    "#### 0.5.1. Passing a Dictionary"
   ]
  },
  {
   "cell_type": "code",
   "execution_count": null,
   "metadata": {
    "id": "f0XRhf9GdVCK"
   },
   "outputs": [],
   "source": [
    "def unDict(**kargs):\n",
    "    return kargs\n",
    "\n",
    "# Examples of calls\n",
    "## Using named parameters:\n",
    "print(unDict(a=23, b=42)) # {'a': 23, 'b': 42}\n",
    "\n",
    "## Providing a dictionary:\n",
    "mots = {'d': 85, 'e': 14, 'f': 9}\n",
    "print(unDict(**mots)) # {'d': 85, 'e': 14, 'f': 9}\n"
   ]
  },
  {
   "cell_type": "markdown",
   "metadata": {
    "id": "9X9Sj7O4dVCK"
   },
   "source": [
    "### 0.6. Documenting a function\n",
    "\n",
    "After creating a function (especially a relatively long and complex one), it is highly recommended to document it to allow other users to understand it quickly. Function documentation is typically a string that provides an overview of the function and useful details. This description is generally specified right after the function's name declaration and before the definition of other instruction blocks. The example below illustrates how to document a function and how to access this documentation when needed."
   ]
  },
  {
   "cell_type": "code",
   "execution_count": null,
   "metadata": {
    "id": "WLVOXMt-dVCK"
   },
   "outputs": [],
   "source": [
    "def volumeSphere():\n",
    "    \"\"\" This program calculates the volume of a sphere.\n",
    "    The function is defined with a single required argument r\n",
    "    which represents the radius of the sphere.\n",
    "    It can take any positive value.\"\"\"\n",
    "    r = float(input(\"Enter the radius of the sphere: \"))\n",
    "    PI = 3.14\n",
    "    return (4 * PI * r**3) / 3\n"
   ]
  },
  {
   "cell_type": "markdown",
   "metadata": {
    "id": "-2d46uD9dVCL"
   },
   "source": [
    "In the definition of the `volumeSphere` function, the string does not play any functional role in the script; it is treated by Python as a simple comment but is stored as internal documentation for the function. This documentation is stored in an attribute called `__doc__`. To display this attribute, you use:\n",
    "\n",
    "```python\n",
    "print(volumeSphere.__doc__)\n",
    "```"
   ]
  },
  {
   "cell_type": "code",
   "execution_count": null,
   "metadata": {
    "id": "dbiYD5didVCL"
   },
   "outputs": [],
   "source": [
    "print(volumeSphere.__doc__)"
   ]
  },
  {
   "cell_type": "markdown",
   "metadata": {
    "id": "3c77kI2rdVCL"
   },
   "source": [
    "## 1. Modules\n",
    "\n",
    "A Python program is generally composed of several source files, called *modules*. Their names have the `.py` suffix. If correctly coded, modules should be independent of each other and reusable on demand in other programs.\n",
    "\n",
    "**Modules are files that group sets of functions.** A **module** is an independent file that allows a program to be split into several scripts. This mechanism allows for the efficient creation of function or class libraries.\n",
    "\n",
    "**Advantages of modules:**\n",
    "- Code reuse;\n",
    "- Documentation and tests can be integrated into the module;\n",
    "- Implementation of shared services or data;\n",
    "- Partitioning of the system's namespace.\n",
    "\n",
    "Just as dictionaries are collections of objects (lists, tuples, sets, etc.), modules are collections of functions that perform related tasks. For example, the `math` module contains a number of mathematical functions such as sine, cosine, tangent, square root, etc. Many modules are already pre-installed in Python's standard library. However, to perform certain specific tasks, you often need to install additional modules (e.g., `numpy`, `scipy`, `matplotlib`, `pandas`, etc.)."
   ]
  },
  {
   "cell_type": "markdown",
   "metadata": {
    "id": "bVCBIglDdVCL"
   },
   "source": [
    "### 1.0. Importing a module\n",
    "\n",
    "There are two possible syntaxes:\n",
    "\n",
    "- The `import nom_module` command imports all objects from the module:\n",
    "  ```python\n",
    "     import tkinter\n",
    "  ```\n",
    "- The `from <nom_module> import obj1, obj2` command imports only the specified objects `obj1, obj2...` from the module:\n",
    "  ```python\n",
    "     from math import pi, sin, log\n",
    "  ```\n",
    "\n",
    "It is recommended to import in the following order:\n",
    "- Standard library modules;\n",
    "- Third-party library modules;\n",
    "- Personal modules."
   ]
  },
  {
   "cell_type": "markdown",
   "metadata": {
    "id": "VUfuqeUAdVCL"
   },
   "source": [
    "### 1.1. The Standard Library\n",
    "\n",
    "It is often said that Python comes \"batteries included\" due to its standard library, which is rich with over 200 packages and modules designed to address a wide range of common problems. See [The Python Standard Library](https://docs.python.org/3/library/index.html)."
   ]
  },
  {
   "cell_type": "code",
   "execution_count": null,
   "metadata": {
    "id": "mcaMJxzHdVCL"
   },
   "outputs": [],
   "source": [
    "import math\n",
    "dir(math)  # To see the list of functions and attributes in the module."
   ]
  },
  {
   "cell_type": "code",
   "execution_count": null,
   "metadata": {
    "id": "HlPLSL9KdVCL"
   },
   "outputs": [],
   "source": [
    "help(math.gamma)  # Displays the documentation for the gamma function in the math module."
   ]
  },
  {
   "cell_type": "code",
   "execution_count": null,
   "metadata": {
    "id": "McfB1U6IdVCL"
   },
   "outputs": [],
   "source": [
    "from math import sin  # Imports the sine function\n",
    "\n",
    "from math import cos, sin, tan, pi  # Imports the cosine, sine, tangent functions, and the value of pi (3.14)\n"
   ]
  },
  {
   "cell_type": "code",
   "execution_count": null,
   "metadata": {
    "id": "0DZHD7t-dVCM"
   },
   "outputs": [],
   "source": [
    "from math import *  # Imports all functions and constants from the math module (equivalent to import math)\n"
   ]
  },
  {
   "cell_type": "markdown",
   "metadata": {
    "id": "JwKUxklUdVCM"
   },
   "source": [
    "<left> <b> <span style=\"color:brown;\">Some uses of the math function: </span> </b></left>\n",
    "\n",
    "```python\n",
    "from math import *\n",
    "\n",
    "v = 16  # defines a variable v\n",
    "x = sqrt(v)  # Returns the square root of v\n",
    "y = exp(v)   # Returns the exponential of v\n",
    "z = log(v)   # Returns the natural logarithm of v\n",
    "```"
   ]
  },
  {
   "cell_type": "code",
   "execution_count": null,
   "metadata": {
    "id": "W99VMCU4dVCM"
   },
   "outputs": [],
   "source": [
    "from math import *\n",
    "v = 16  # defines a variable v\n",
    "x = sqrt(v)  # Returns the square root of v\n",
    "y = exp(v)   # Returns the exponential of v\n",
    "z = log(v)   # Returns the natural logarithm of v\n",
    "print(v, x, y, z)"
   ]
  },
  {
   "cell_type": "markdown",
   "metadata": {
    "id": "EXG0SudEdVCM"
   },
   "source": [
    "<left> <b> <span style=\"color:brown;\">Some examples of using the random module: </span> </b></left>\n",
    "\n",
    "```python\n",
    "from random import random, randint, seed, uniform, randrange, sample, shuffle  # Imports some useful functions from random\n",
    "```"
   ]
  },
  {
   "cell_type": "code",
   "execution_count": null,
   "metadata": {
    "id": "IJp8BIc6dVCM"
   },
   "outputs": [],
   "source": [
    "import random\n",
    "\n",
    "x = random.random()  # Returns a random number between 0.0 and 1.0\n",
    "print(x)\n"
   ]
  },
  {
   "cell_type": "code",
   "execution_count": null,
   "metadata": {
    "id": "yn0H7bVydVCM"
   },
   "outputs": [],
   "source": [
    "import random\n",
    "\n",
    "x = random.randint(5, 17)  # Returns a random integer between 5 and 17 (inclusive)\n",
    "print(x)\n"
   ]
  },
  {
   "cell_type": "code",
   "execution_count": null,
   "metadata": {
    "id": "0GC_mX2JdVCN"
   },
   "outputs": [],
   "source": [
    "import random\n",
    "\n",
    "x = random.uniform(5, 17)  # Returns a random floating-point number between 5 and 17\n",
    "print(x)\n"
   ]
  },
  {
   "cell_type": "markdown",
   "metadata": {
    "id": "6e2YPAckdVCN"
   },
   "source": [
    "## Feel free to explore the `turtle`, `time`, `decimal`, `fractions`, `cmath` modules."
   ]
  },
  {
   "cell_type": "markdown",
   "metadata": {
    "id": "jMXyG4HldVCN"
   },
   "source": [
    "### 1.2. Third-Party Libraries\n",
    "\n",
    "In addition to the modules included in the standard Python distribution, you can find libraries in various fields:\n",
    "- Scientific\n",
    "- Databases\n",
    "- Functional testing and quality control\n",
    "- 3D\n",
    "- ...\n",
    "\n",
    "The [PYPI](https://pypi.org/) (The Python Package Index) lists thousands of modules and packages!"
   ]
  },
  {
   "cell_type": "markdown",
   "metadata": {
    "id": "1h1zG48ydVCN"
   },
   "source": [
    "### 1.3. Define and use your own module\n",
    "\n",
    "You can create your own module by gathering several functions into a single script and saving it with the `.py` extension in the current directory. The name should be simple and not create ambiguity with other Python objects. For example, you might choose `myprogram.py`.\n",
    "\n",
    "Once the script is saved in the current directory, you can import the module like a standard module, and all its functions (and variables) become accessible. The module is imported using the command:\n",
    "\n",
    "```python\n",
    "import myprogram\n",
    "```\n",
    "\n",
    "You can then use the functions from the module as you would with any standard module. For example:\n",
    "\n",
    "```python\n",
    "# myprogram.py\n",
    "def greet(name):\n",
    "    \"\"\"Returns a greeting message.\"\"\"\n",
    "    return f\"Hello, {name}!\"\n",
    "\n",
    "def add(a, b):\n",
    "    \"\"\"Returns the sum of two numbers.\"\"\"\n",
    "    return a + b\n",
    "```\n",
    "\n",
    "```python\n",
    "# main.py\n",
    "import myprogram\n",
    "\n",
    "print(myprogram.greet(\"Alice\"))  # Output: Hello, Alice!\n",
    "print(myprogram.add(5, 7))       # Output: 12\n",
    "```"
   ]
  },
  {
   "cell_type": "markdown",
   "metadata": {
    "id": "E_zY07vmdVCN"
   },
   "source": [
    "Open your preferred text editor and write the following code, which you should save as `cube_m.py`:\n",
    "\n",
    "```python\n",
    "# A module named cube_m.py\n",
    "def cube(y):\n",
    "    \"\"\"Calculates the cube of the parameter <y>.\"\"\"\n",
    "    return y**3\n",
    "\n",
    "\n",
    "# Self-test ----------------------------------------------------\n",
    "if __name__ == \"__main__\": # False when imported ==> ignored\n",
    "    help(cube)\n",
    "    # displays the docstring of the function\n",
    "    print(\"cube of 9:\", cube(9)) # cube of 9: 729\n",
    "```\n",
    "\n",
    "```python\n",
    "# Using this module. We import the function cube() from the file cube_m.py:\n",
    "from cube_m import cube\n",
    "\n",
    "for i in range(1, 4):\n",
    "    print(\"cube of\", i, \"=\", cube(i), end=\" \")\n",
    "# cube of 1 = 1 cube of 2 = 8 cube of 3 = 27\n",
    "```"
   ]
  },
  {
   "cell_type": "markdown",
   "metadata": {
    "id": "5WXhYG4LdVCN"
   },
   "source": [
    "## 2. Package\n",
    "\n",
    "A second level of organization allows for structuring the code: Python files can be organized in a directory hierarchy called a `package`.\n",
    "\n",
    "More simply, a *package* is a module containing other modules. The modules in a package can be *sub-packages*, creating a tree-like structure. In summary, a package is simply a directory that contains modules and an `__init__.py` file describing the package's structure. Example:\n"
   ]
  },
  {
   "cell_type": "markdown",
   "metadata": {
    "id": "fz5W4rVYdVCN"
   },
   "source": [
    "### In a terminal, do the following:\n",
    "\n",
    "- `mkdir monpackage`;\n",
    "- `cd monpackage`;\n",
    "- `touch __init__.py`;\n",
    "- `touch mesfonctions.py`\n",
    "  - This file contains two Python functions:\n",
    "  \n",
    "     ```python\n",
    "        def additionner(a, b):\n",
    "            return a + b\n",
    "\n",
    "        def soustraire(a, b):\n",
    "            return a - b\n",
    "\n",
    "     ```\n",
    "- `touch mesattributs.py`\n",
    "    - This file contains two constants:\n",
    "   ```python\n",
    "      x = 100\n",
    "      y = 95\n",
    "    ```\n",
    "    \n",
    "    \n",
    "### Then  do this:\n",
    "\n",
    "This sequence of code demonstrates how to use the functions and constants defined in the `monpackage` package:\n",
    "\n",
    "1. **Importing and Using Functions:**\n",
    "   ```python\n",
    "   from monpackage import mesfonctions\n",
    "   mesfonctions.additionner(23, 89) == 112  # Returns True\n",
    "   ```\n",
    "   - Here, the `additionner` function is imported from the `mesfonctions` module within the `monpackage` package.\n",
    "   - `mesfonctions.additionner(23, 89)` calls the `additionner` function with arguments `23` and `89`.\n",
    "   - The function returns `112`, which matches the expected result, so the expression `mesfonctions.additionner(23, 89) == 112` evaluates to `True`.\n",
    "\n",
    "2. **Importing and Using Constants:**\n",
    "   ```python\n",
    "   from monpackage import mesattributs\n",
    "   mesattributs.x == 100  # Returns True\n",
    "   ```\n",
    "   - Here, the constant `x` is imported from the `mesattributs` module within the `monpackage` package.\n",
    "   - `mesattributs.x` accesses the constant `x` which is defined as `100`.\n",
    "   - The expression `mesattributs.x == 100` evaluates to `True` since the value of `x` is indeed `100`.    \n"
   ]
  },
  {
   "cell_type": "code",
   "execution_count": 1,
   "metadata": {
    "id": "3twWykt-dVCO"
   },
   "outputs": [
    {
     "ename": "ModuleNotFoundError",
     "evalue": "No module named 'monpackage'",
     "output_type": "error",
     "traceback": [
      "\u001b[1;31m---------------------------------------------------------------------------\u001b[0m",
      "\u001b[1;31mModuleNotFoundError\u001b[0m                       Traceback (most recent call last)",
      "Cell \u001b[1;32mIn[1], line 1\u001b[0m\n\u001b[1;32m----> 1\u001b[0m \u001b[38;5;28;01mfrom\u001b[39;00m\u001b[38;5;250m \u001b[39m\u001b[38;5;21;01mmonpackage\u001b[39;00m\u001b[38;5;250m \u001b[39m\u001b[38;5;28;01mimport\u001b[39;00m mesfonctions\n",
      "\u001b[1;31mModuleNotFoundError\u001b[0m: No module named 'monpackage'"
     ]
    }
   ],
   "source": [
    "from monpackage import mesfonctions"
   ]
  },
  {
   "cell_type": "code",
   "execution_count": null,
   "metadata": {
    "id": "wcsL2W0EdVCO"
   },
   "outputs": [],
   "source": [
    "mesfonctions.additionner(23,89) == 112  # Returns True"
   ]
  },
  {
   "cell_type": "code",
   "execution_count": null,
   "metadata": {
    "id": "0ngeu_m7dVCO"
   },
   "outputs": [],
   "source": [
    "from monpackage import mesattributs"
   ]
  },
  {
   "cell_type": "code",
   "execution_count": null,
   "metadata": {
    "id": "jR9AevdQdVCO"
   },
   "outputs": [],
   "source": [
    "mesattributs.x == 100 # Returns True"
   ]
  }
 ],
 "metadata": {
  "colab": {
   "include_colab_link": true,
   "provenance": []
  },
  "kernelspec": {
   "display_name": "Python [conda env:base] *",
   "language": "python",
   "name": "conda-base-py"
  },
  "language_info": {
   "codemirror_mode": {
    "name": "ipython",
    "version": 3
   },
   "file_extension": ".py",
   "mimetype": "text/x-python",
   "name": "python",
   "nbconvert_exporter": "python",
   "pygments_lexer": "ipython3",
   "version": "3.13.5"
  }
 },
 "nbformat": 4,
 "nbformat_minor": 4
}
