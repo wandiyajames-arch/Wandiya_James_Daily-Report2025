{
 "cells": [
  {
   "cell_type": "markdown",
   "id": "0077a357-16e1-483b-a20d-082ea7358277",
   "metadata": {},
   "source": [
    "1.0 *strings are sequence of characters that represent text data. it is similar to numerical data types which consists of digits. it iss used to cobstruct and manipulate complex data structures like lists, tuples and dictionaries.\n",
    "*Python treat strings as immutable. There are various operations that can be performed on strings to generate new strings. These operations are concatenation, slicing,formatting, searching and transfomring text. \n",
    "*Well grounded in python enables one to handle data processing, file handling and user input.\n",
    "\n",
    "*Python provides robust supoort for working with files.\n",
    "* python uses some function such as open(), close(). The open () function is used to open file, read file and write file. while the close () fuction is ised to close the file for system free up system resource and data integrity. \n"
   ]
  },
  {
   "cell_type": "code",
   "execution_count": 9,
   "id": "6f8b5500-5471-47d8-81a6-7bad97e60d99",
   "metadata": {},
   "outputs": [],
   "source": [
    " my_tuple = (1,2,3)\n",
    "my_list = (1,2,3)"
   ]
  },
  {
   "cell_type": "code",
   "execution_count": 10,
   "id": "205b0284-3287-4f72-9cd2-626c620ea97d",
   "metadata": {},
   "outputs": [
    {
     "ename": "TypeError",
     "evalue": "'tuple' object does not support item assignment",
     "output_type": "error",
     "traceback": [
      "\u001b[1;31m---------------------------------------------------------------------------\u001b[0m",
      "\u001b[1;31mTypeError\u001b[0m                                 Traceback (most recent call last)",
      "Cell \u001b[1;32mIn[10], line 1\u001b[0m\n\u001b[1;32m----> 1\u001b[0m my_tuple[\u001b[38;5;241m0\u001b[39m] \u001b[38;5;241m=\u001b[39m \u001b[38;5;241m10\u001b[39m\n",
      "\u001b[1;31mTypeError\u001b[0m: 'tuple' object does not support item assignment"
     ]
    }
   ],
   "source": [
    "my_tuple[0] = 10 # raises TypeError"
   ]
  },
  {
   "cell_type": "code",
   "execution_count": 11,
   "id": "19693887-36b8-4750-87cb-6a5d5d7c8178",
   "metadata": {},
   "outputs": [],
   "source": [
    "my_list = [1, 2, 3]  # This is a list"
   ]
  },
  {
   "cell_type": "code",
   "execution_count": 12,
   "id": "993cb26e-a178-4848-b99e-2e3cd7db92d5",
   "metadata": {},
   "outputs": [
    {
     "name": "stdout",
     "output_type": "stream",
     "text": [
      "[1, 2, 3]\n"
     ]
    }
   ],
   "source": [
    "print(my_list)"
   ]
  },
  {
   "cell_type": "markdown",
   "id": "7a46dcae-bea8-46e8-b9f1-2e15d9b0a4cb",
   "metadata": {},
   "source": [
    "1.1 Definition of string variable: A string vaiable can be defined in a traditional manner by using a dirct assignment. \n",
    "it consist of string variable and numberical variable . \n",
    "string variable is used to hold a stings of characters while a numerical variable hold a numeric value.\n",
    "For example: "
   ]
  },
  {
   "cell_type": "code",
   "execution_count": 13,
   "id": "4bc31bb7-a0cb-4e70-a5a3-f34961f357a3",
   "metadata": {},
   "outputs": [],
   "source": [
    "# string variable\n",
    "my_string = \"Hello world\"\n",
    "# numerical variable consist of int. and float\n",
    "my_int = 12\n",
    "my_float = 12.34"
   ]
  },
  {
   "cell_type": "code",
   "execution_count": 14,
   "id": "5ecb8318-4a67-4c27-aabc-ac91d86bac2e",
   "metadata": {},
   "outputs": [
    {
     "name": "stdout",
     "output_type": "stream",
     "text": [
      "Hello world\n",
      "12\n",
      "12.34\n"
     ]
    }
   ],
   "source": [
    "print(my_string)\n",
    "print(my_int)\n",
    "print(my_float)"
   ]
  },
  {
   "cell_type": "code",
   "execution_count": 17,
   "id": "4fe777ba-f976-4f8c-93f0-a31eae9e014e",
   "metadata": {},
   "outputs": [
    {
     "data": {
      "text/plain": [
       "float"
      ]
     },
     "execution_count": 17,
     "metadata": {},
     "output_type": "execute_result"
    }
   ],
   "source": [
    "# To know their type\n",
    "type(my_float)"
   ]
  },
  {
   "cell_type": "code",
   "execution_count": 18,
   "id": "36a39c60-0987-4d55-9c7d-8b8711262a11",
   "metadata": {},
   "outputs": [
    {
     "data": {
      "text/plain": [
       "int"
      ]
     },
     "execution_count": 18,
     "metadata": {},
     "output_type": "execute_result"
    }
   ],
   "source": [
    "type(my_int)"
   ]
  },
  {
   "cell_type": "code",
   "execution_count": 19,
   "id": "73e34fcf-c814-4dca-a0ee-ecd63d05963f",
   "metadata": {},
   "outputs": [
    {
     "data": {
      "text/plain": [
       "str"
      ]
     },
     "execution_count": 19,
     "metadata": {},
     "output_type": "execute_result"
    }
   ],
   "source": [
    "type(my_string)"
   ]
  },
  {
   "cell_type": "markdown",
   "id": "e93d089b-55b2-4f4c-830c-e1025b64088c",
   "metadata": {},
   "source": [
    "1.2 indexing and string\n",
    "* A string is a sequence of ordered and indexed vlue. The portion of a string can be extracted using slice.\n",
    "* slicing is used to extract the portion of a string.\n",
    "* In other word, slice is used to access the substring of a string\n",
    "* The formula is [ start = 0: stop = end: step = 1 or 2..:]\n",
    "* consider the example below:"
   ]
  },
  {
   "cell_type": "code",
   "execution_count": 25,
   "id": "5c122644-34b3-451a-9445-898c65dee250",
   "metadata": {},
   "outputs": [],
   "source": [
    "ch = \"Christelle\""
   ]
  },
  {
   "cell_type": "code",
   "execution_count": 26,
   "id": "dd7c7854-760c-42d5-b798-d36972b291ea",
   "metadata": {},
   "outputs": [
    {
     "name": "stdout",
     "output_type": "stream",
     "text": [
      "C\n"
     ]
    }
   ],
   "source": [
    "print(ch[0])"
   ]
  },
  {
   "cell_type": "code",
   "execution_count": 27,
   "id": "043377ee-0117-4b8a-a7bc-a1929fb4fbc1",
   "metadata": {},
   "outputs": [
    {
     "name": "stdout",
     "output_type": "stream",
     "text": [
      "r\n"
     ]
    }
   ],
   "source": [
    "print(ch[2])"
   ]
  },
  {
   "cell_type": "code",
   "execution_count": 28,
   "id": "5d011af6-617c-43c8-b6b6-e99e1a1ea5c2",
   "metadata": {},
   "outputs": [
    {
     "name": "stdout",
     "output_type": "stream",
     "text": [
      "s\n"
     ]
    }
   ],
   "source": [
    "print(ch[4])"
   ]
  },
  {
   "cell_type": "code",
   "execution_count": 29,
   "id": "bcd83f93-91d1-411f-b0eb-b851c773c02b",
   "metadata": {},
   "outputs": [
    {
     "name": "stdout",
     "output_type": "stream",
     "text": [
      "Crsel\n"
     ]
    }
   ],
   "source": [
    "print(ch[0:10:2])"
   ]
  },
  {
   "cell_type": "code",
   "execution_count": 31,
   "id": "4f844747-71a1-4dd3-8d95-1bed7cee06a3",
   "metadata": {},
   "outputs": [
    {
     "name": "stdout",
     "output_type": "stream",
     "text": [
      "rist\n"
     ]
    }
   ],
   "source": [
    "print (ch[2:6:1])"
   ]
  },
  {
   "cell_type": "code",
   "execution_count": 33,
   "id": "c1fb00d0-f36d-4fbf-b90a-ad328b4de99e",
   "metadata": {},
   "outputs": [
    {
     "name": "stdout",
     "output_type": "stream",
     "text": [
      "rs\n"
     ]
    }
   ],
   "source": [
    "print (ch[2:6:2])"
   ]
  },
  {
   "cell_type": "code",
   "execution_count": 42,
   "id": "d8865960-4f38-4fcd-9d2a-1b6c03c15add",
   "metadata": {},
   "outputs": [],
   "source": [
    "ch = \"Ceci est une chaîne de plusieurs mots\""
   ]
  },
  {
   "cell_type": "code",
   "execution_count": 43,
   "id": "441b0153-a2ae-4a3e-85b2-03f95a792285",
   "metadata": {},
   "outputs": [
    {
     "name": "stdout",
     "output_type": "stream",
     "text": [
      "37\n"
     ]
    }
   ],
   "source": [
    "print(len(ch))"
   ]
  },
  {
   "cell_type": "markdown",
   "id": "ae02375f-f992-41f9-88dc-54bc03b40278",
   "metadata": {},
   "source": [
    "1.3 Addition of string\n",
    "String concatenation is the process of joing two or more  strins together to form a single word. it uses the + symbol.\n",
    "\n",
    "Examples\n"
   ]
  },
  {
   "cell_type": "code",
   "execution_count": 44,
   "id": "7a7d5ebc-4873-43d2-a99b-9a9d36ff92ba",
   "metadata": {},
   "outputs": [],
   "source": [
    "str1 = \"Hello\"\n",
    "str2 = \"World\"\n",
    "result = str1 + \" \" + str2 # it concatenates Hello and world with space between them"
   ]
  },
  {
   "cell_type": "code",
   "execution_count": 45,
   "id": "80cc1281-d8ce-4d89-b8fa-73584cca1cdf",
   "metadata": {},
   "outputs": [
    {
     "name": "stdout",
     "output_type": "stream",
     "text": [
      "Hello World\n"
     ]
    }
   ],
   "source": [
    "print (result)"
   ]
  },
  {
   "cell_type": "code",
   "execution_count": 46,
   "id": "6f282392-447b-4e3e-a66f-a8568e0dbd1f",
   "metadata": {},
   "outputs": [],
   "source": [
    "x = \"Un petit pas pour l'homme\"\n",
    "y = \"un grand pas pour l'humanité\"\n",
    "z = x + \" \" + y"
   ]
  },
  {
   "cell_type": "code",
   "execution_count": 47,
   "id": "559028e3-d2a7-4b0f-8bef-5c4b73a9c81d",
   "metadata": {},
   "outputs": [
    {
     "name": "stdout",
     "output_type": "stream",
     "text": [
      "Un petit pas pour l'homme un grand pas pour l'humanité\n"
     ]
    }
   ],
   "source": [
    "print (z)"
   ]
  },
  {
   "cell_type": "code",
   "execution_count": 48,
   "id": "b045ce4d-56b7-402f-85bb-008a721ef718",
   "metadata": {},
   "outputs": [],
   "source": [
    "x = \"The price of the pen is\"\n",
    "y = 5\n",
    "z = \"euros\"\n",
    "result = x + \" \" + str(y) + \" \" + z"
   ]
  },
  {
   "cell_type": "code",
   "execution_count": 49,
   "id": "83245711-394b-483a-89c2-67657846d7db",
   "metadata": {},
   "outputs": [
    {
     "name": "stdout",
     "output_type": "stream",
     "text": [
      "The price of the pen is 5 euros\n"
     ]
    }
   ],
   "source": [
    "print (result)"
   ]
  },
  {
   "cell_type": "code",
   "execution_count": 50,
   "id": "416ac89d-d07f-4347-88ae-341853fc9449",
   "metadata": {},
   "outputs": [],
   "source": [
    "x = \"The price of the pen is\"\n",
    "y = 5\n",
    "z = \"euros\"\n",
    "ch = x + \" \" + str (y) + \" \" + z"
   ]
  },
  {
   "cell_type": "code",
   "execution_count": 51,
   "id": "a4671728-f338-46c5-8270-349d7ca98f98",
   "metadata": {},
   "outputs": [
    {
     "name": "stdout",
     "output_type": "stream",
     "text": [
      "The price of the pen is 5 euros\n"
     ]
    }
   ],
   "source": [
    "print(ch)"
   ]
  },
  {
   "cell_type": "markdown",
   "id": "93dd4fd3-aa84-4139-b484-e767556764f2",
   "metadata": {},
   "source": [
    "Strings in Python come with various methods that facilitate their manipulation.The commonly used methods include upper(), lower(), capitalize(), find(), replace(), count(), startswith(), endswith(), and the in keyword. These methods enable operations like case conversion, substring searching, and content checking, making them essential for text processing and data manipulation tasks."
   ]
  },
  {
   "cell_type": "markdown",
   "id": "db011633-bbe9-45d2-92a9-c6bf3769a8d7",
   "metadata": {},
   "source": [
    "Example of using () upper\n",
    "* convert all characters in the string to uppercase"
   ]
  },
  {
   "cell_type": "code",
   "execution_count": 52,
   "id": "320a2926-86cf-4909-8f96-42126d12e100",
   "metadata": {},
   "outputs": [
    {
     "name": "stdout",
     "output_type": "stream",
     "text": [
      "HELLO\n"
     ]
    }
   ],
   "source": [
    "x = \"hello\"\n",
    "print (x.upper())"
   ]
  },
  {
   "cell_type": "markdown",
   "id": "80a44cc0-efd7-45ad-9a1e-6a4a09d22f1e",
   "metadata": {},
   "source": [
    "Example of using ()lower\n",
    "* convert all the character in the strings to lower"
   ]
  },
  {
   "cell_type": "code",
   "execution_count": 53,
   "id": "953eb859-03cc-4d31-b21a-30bdc30785ae",
   "metadata": {},
   "outputs": [
    {
     "name": "stdout",
     "output_type": "stream",
     "text": [
      "hello\n"
     ]
    }
   ],
   "source": [
    "y = \"HELLO\"\n",
    "print(y.lower())"
   ]
  },
  {
   "cell_type": "markdown",
   "id": "d4d46815-81e6-4422-b0ce-9a3d649da751",
   "metadata": {},
   "source": [
    "Exmaple of using capitalize ()\n",
    "* it captilize the first charater of a string"
   ]
  },
  {
   "cell_type": "code",
   "execution_count": 55,
   "id": "e2ead7dc-fe0a-4075-ae76-8d7779adcb41",
   "metadata": {},
   "outputs": [
    {
     "name": "stdout",
     "output_type": "stream",
     "text": [
      "Hello world\n"
     ]
    }
   ],
   "source": [
    "z = \"hello world\"\n",
    "print(z.capitalize())"
   ]
  },
  {
   "cell_type": "markdown",
   "id": "59b95c5a-3d2e-489e-a5fa-da8a9e806d4d",
   "metadata": {},
   "source": [
    "Example of using find()\n",
    "* it is used to find the first occurence of the substring or -1 if not found."
   ]
  },
  {
   "cell_type": "code",
   "execution_count": 57,
   "id": "9acf8a75-301f-431e-92fa-74f29af7b6ca",
   "metadata": {},
   "outputs": [
    {
     "name": "stdout",
     "output_type": "stream",
     "text": [
      "6\n"
     ]
    }
   ],
   "source": [
    "text = \"hello world\"\n",
    "print(text.find(\"world\"))"
   ]
  },
  {
   "cell_type": "markdown",
   "id": "5d512c61-a98f-4405-abf2-e6c5a5507d21",
   "metadata": {},
   "source": [
    "replace () it is used to replace an old word with a new one.\n",
    "replace(old,new)\n",
    "Example of using replace()"
   ]
  },
  {
   "cell_type": "code",
   "execution_count": 60,
   "id": "e48823f2-12ef-48b0-8169-de35e6cd9c90",
   "metadata": {},
   "outputs": [
    {
     "name": "stdout",
     "output_type": "stream",
     "text": [
      "wandiya James\n"
     ]
    }
   ],
   "source": [
    "text = \"wandiya Chiding\"\n",
    "print(text.replace(\"Chiding\",\"James\"))"
   ]
  },
  {
   "cell_type": "markdown",
   "id": "aecc0081-b9bc-49e2-963b-a23fc641ab9b",
   "metadata": {},
   "source": [
    "count (substring)\n",
    "is used to  return the number of occurrences in a substring\n",
    "For example"
   ]
  },
  {
   "cell_type": "raw",
   "id": "22213f14-8886-490a-b333-f4717f941736",
   "metadata": {},
   "source": [
    "text = \"hello world\""
   ]
  },
  {
   "cell_type": "code",
   "execution_count": 77,
   "id": "08f7b0f8-207a-4d2e-81ea-9087d1b6246a",
   "metadata": {},
   "outputs": [
    {
     "name": "stdout",
     "output_type": "stream",
     "text": [
      "2\n"
     ]
    }
   ],
   "source": [
    "print(text.count(\"o\"))"
   ]
  },
  {
   "cell_type": "code",
   "execution_count": 92,
   "id": "4e7694d7-ae60-47b4-9074-d1dbb6430eda",
   "metadata": {},
   "outputs": [],
   "source": [
    "text = \"hello world\""
   ]
  },
  {
   "cell_type": "code",
   "execution_count": 93,
   "id": "ac58598a-b8dc-4c1a-b65b-d3e79d5b4e6c",
   "metadata": {},
   "outputs": [
    {
     "name": "stdout",
     "output_type": "stream",
     "text": [
      "True\n"
     ]
    }
   ],
   "source": [
    "print(text.islower())"
   ]
  },
  {
   "cell_type": "code",
   "execution_count": 94,
   "id": "1a63a246-d748-4f87-aca5-ff94f3350660",
   "metadata": {},
   "outputs": [
    {
     "name": "stdout",
     "output_type": "stream",
     "text": [
      "False\n"
     ]
    }
   ],
   "source": [
    "print(text.isupper())"
   ]
  },
  {
   "cell_type": "code",
   "execution_count": 95,
   "id": "6c1e17f4-eb7b-435c-b7c2-e6ad499e2d19",
   "metadata": {},
   "outputs": [
    {
     "name": "stdout",
     "output_type": "stream",
     "text": [
      "HELLO WORLD\n"
     ]
    }
   ],
   "source": [
    "print(text.upper())"
   ]
  },
  {
   "cell_type": "code",
   "execution_count": 96,
   "id": "f3ff7611-e580-4412-988c-067bcbc40a62",
   "metadata": {},
   "outputs": [
    {
     "name": "stdout",
     "output_type": "stream",
     "text": [
      "False\n"
     ]
    }
   ],
   "source": [
    "print(text.isupper())"
   ]
  },
  {
   "cell_type": "code",
   "execution_count": 97,
   "id": "9334603c-a5df-4b30-9273-be7097694e12",
   "metadata": {},
   "outputs": [
    {
     "name": "stdout",
     "output_type": "stream",
     "text": [
      "False\n"
     ]
    }
   ],
   "source": [
    "print(text.istitle())"
   ]
  },
  {
   "cell_type": "code",
   "execution_count": 98,
   "id": "39f919b8-2e9f-446f-93cf-362836568b4f",
   "metadata": {},
   "outputs": [
    {
     "name": "stdout",
     "output_type": "stream",
     "text": [
      "False\n"
     ]
    }
   ],
   "source": [
    "print(text.isalpha())"
   ]
  },
  {
   "cell_type": "code",
   "execution_count": 101,
   "id": "16082df4-88aa-4e58-9e98-e0e281051236",
   "metadata": {},
   "outputs": [],
   "source": [
    "text = \"learn python\""
   ]
  },
  {
   "cell_type": "code",
   "execution_count": 103,
   "id": "ee29da68-2c9e-4070-bc9c-75a0c2246496",
   "metadata": {},
   "outputs": [
    {
     "name": "stdout",
     "output_type": "stream",
     "text": [
      "False\n"
     ]
    }
   ],
   "source": [
    "print(text.isalnum())"
   ]
  },
  {
   "cell_type": "markdown",
   "id": "fcf08997-43da-4ad8-ad2f-a04c7b15a69a",
   "metadata": {},
   "source": [
    "##Basic file opration"
   ]
  },
  {
   "cell_type": "code",
   "execution_count": 10,
   "id": "ee166053-1c55-4b06-9123-9bd88806f840",
   "metadata": {},
   "outputs": [
    {
     "ename": "OSError",
     "evalue": "[Errno 22] Invalid argument: ' C:\\\\Users\\\\Hp\\\\Documents\\\\AIMS SN\\\\PyPro.txt'",
     "output_type": "error",
     "traceback": [
      "\u001b[1;31m---------------------------------------------------------------------------\u001b[0m",
      "\u001b[1;31mOSError\u001b[0m                                   Traceback (most recent call last)",
      "Cell \u001b[1;32mIn[10], line 1\u001b[0m\n\u001b[1;32m----> 1\u001b[0m file \u001b[38;5;241m=\u001b[39m \u001b[38;5;28mopen\u001b[39m( \u001b[38;5;124mr\u001b[39m\u001b[38;5;124m'\u001b[39m\u001b[38;5;124m C:\u001b[39m\u001b[38;5;124m\\\u001b[39m\u001b[38;5;124mUsers\u001b[39m\u001b[38;5;124m\\\u001b[39m\u001b[38;5;124mHp\u001b[39m\u001b[38;5;124m\\\u001b[39m\u001b[38;5;124mDocuments\u001b[39m\u001b[38;5;124m\\\u001b[39m\u001b[38;5;124mAIMS SN\u001b[39m\u001b[38;5;124m\\\u001b[39m\u001b[38;5;124mPyPro.txt\u001b[39m\u001b[38;5;124m'\u001b[39m, \u001b[38;5;124m'\u001b[39m\u001b[38;5;124mr\u001b[39m\u001b[38;5;124m'\u001b[39m)\n\u001b[0;32m      2\u001b[0m content \u001b[38;5;241m=\u001b[39m file\u001b[38;5;241m.\u001b[39mread()\n",
      "File \u001b[1;32m~\\anaconda3\\Lib\\site-packages\\IPython\\core\\interactiveshell.py:324\u001b[0m, in \u001b[0;36m_modified_open\u001b[1;34m(file, *args, **kwargs)\u001b[0m\n\u001b[0;32m    317\u001b[0m \u001b[38;5;28;01mif\u001b[39;00m file \u001b[38;5;129;01min\u001b[39;00m {\u001b[38;5;241m0\u001b[39m, \u001b[38;5;241m1\u001b[39m, \u001b[38;5;241m2\u001b[39m}:\n\u001b[0;32m    318\u001b[0m     \u001b[38;5;28;01mraise\u001b[39;00m \u001b[38;5;167;01mValueError\u001b[39;00m(\n\u001b[0;32m    319\u001b[0m         \u001b[38;5;124mf\u001b[39m\u001b[38;5;124m\"\u001b[39m\u001b[38;5;124mIPython won\u001b[39m\u001b[38;5;124m'\u001b[39m\u001b[38;5;124mt let you open fd=\u001b[39m\u001b[38;5;132;01m{\u001b[39;00mfile\u001b[38;5;132;01m}\u001b[39;00m\u001b[38;5;124m by default \u001b[39m\u001b[38;5;124m\"\u001b[39m\n\u001b[0;32m    320\u001b[0m         \u001b[38;5;124m\"\u001b[39m\u001b[38;5;124mas it is likely to crash IPython. If you know what you are doing, \u001b[39m\u001b[38;5;124m\"\u001b[39m\n\u001b[0;32m    321\u001b[0m         \u001b[38;5;124m\"\u001b[39m\u001b[38;5;124myou can use builtins\u001b[39m\u001b[38;5;124m'\u001b[39m\u001b[38;5;124m open.\u001b[39m\u001b[38;5;124m\"\u001b[39m\n\u001b[0;32m    322\u001b[0m     )\n\u001b[1;32m--> 324\u001b[0m \u001b[38;5;28;01mreturn\u001b[39;00m io_open(file, \u001b[38;5;241m*\u001b[39margs, \u001b[38;5;241m*\u001b[39m\u001b[38;5;241m*\u001b[39mkwargs)\n",
      "\u001b[1;31mOSError\u001b[0m: [Errno 22] Invalid argument: ' C:\\\\Users\\\\Hp\\\\Documents\\\\AIMS SN\\\\PyPro.txt'"
     ]
    }
   ],
   "source": [
    "file = open( r' C:\\Users\\Hp\\Documents\\AIMS SN\\PyPro.txt', 'r')\n",
    "content = file.read()"
   ]
  },
  {
   "cell_type": "code",
   "execution_count": 2,
   "id": "133e2b2d-0540-4f75-a68b-4b3fdb2c80cc",
   "metadata": {},
   "outputs": [
    {
     "data": {
      "text/plain": [
       "'C:\\\\Users\\\\Hp\\\\Documents\\\\AIMS SN\\\\Programming with Python'"
      ]
     },
     "execution_count": 2,
     "metadata": {},
     "output_type": "execute_result"
    }
   ],
   "source": [
    "pwd"
   ]
  },
  {
   "cell_type": "code",
   "execution_count": null,
   "id": "df26e382-7d51-4f4a-baf2-86cca66410ac",
   "metadata": {},
   "outputs": [],
   "source": []
  }
 ],
 "metadata": {
  "kernelspec": {
   "display_name": "Python [conda env:base] *",
   "language": "python",
   "name": "conda-base-py"
  },
  "language_info": {
   "codemirror_mode": {
    "name": "ipython",
    "version": 3
   },
   "file_extension": ".py",
   "mimetype": "text/x-python",
   "name": "python",
   "nbconvert_exporter": "python",
   "pygments_lexer": "ipython3",
   "version": "3.13.5"
  }
 },
 "nbformat": 4,
 "nbformat_minor": 5
}
