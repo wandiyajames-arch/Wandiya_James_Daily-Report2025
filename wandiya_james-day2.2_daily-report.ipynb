{
 "cells": [
  {
   "cell_type": "markdown",
   "id": "331a38d1",
   "metadata": {},
   "source": [
    "# Practical_2: String and files"
   ]
  },
  {
   "cell_type": "markdown",
   "id": "a22cb9ff",
   "metadata": {},
   "source": [
    "### Exercise 1:\n",
    "Create a string variable `text` and assign it the value `\"Python is amazing!\"`."
   ]
  },
  {
   "cell_type": "code",
   "execution_count": 1,
   "id": "4b307a6c",
   "metadata": {},
   "outputs": [],
   "source": [
    "text = \"Python is amazing\""
   ]
  },
  {
   "cell_type": "markdown",
   "id": "82d1fc0c",
   "metadata": {},
   "source": [
    "### Exercise 2:\n",
    "Find the length of the string `\"Hello, World!\"` and store it in a variable `length`.\n"
   ]
  },
  {
   "cell_type": "code",
   "execution_count": 2,
   "id": "c9b3eecc",
   "metadata": {},
   "outputs": [],
   "source": [
    "length = \"Hello, world!\""
   ]
  },
  {
   "cell_type": "code",
   "execution_count": 4,
   "id": "4d57db35",
   "metadata": {},
   "outputs": [
    {
     "data": {
      "text/plain": [
       "13"
      ]
     },
     "execution_count": 4,
     "metadata": {},
     "output_type": "execute_result"
    }
   ],
   "source": [
    "len(length)"
   ]
  },
  {
   "cell_type": "markdown",
   "id": "93583ec3",
   "metadata": {},
   "source": [
    "### Exercise 3:\n",
    "Convert the string `\"python programming\"` to uppercase and store it in a variable `upper_text`.\n"
   ]
  },
  {
   "cell_type": "code",
   "execution_count": 5,
   "id": "50c05e3a",
   "metadata": {},
   "outputs": [],
   "source": [
    "upper_text = \"python programming\""
   ]
  },
  {
   "cell_type": "code",
   "execution_count": 4,
   "id": "eaee59ff",
   "metadata": {},
   "outputs": [
    {
     "ename": "NameError",
     "evalue": "name 'upper_text' is not defined",
     "output_type": "error",
     "traceback": [
      "\u001b[0;31m---------------------------------------------------------------------------\u001b[0m",
      "\u001b[0;31mNameError\u001b[0m                                 Traceback (most recent call last)",
      "\u001b[0;32m/tmp/ipykernel_11041/4201924534.py\u001b[0m in \u001b[0;36m<module>\u001b[0;34m\u001b[0m\n\u001b[0;32m----> 1\u001b[0;31m \u001b[0;34m(\u001b[0m\u001b[0mupper_text\u001b[0m\u001b[0;34m.\u001b[0m\u001b[0mupper\u001b[0m\u001b[0;34m(\u001b[0m\u001b[0;34m)\u001b[0m\u001b[0;34m)\u001b[0m\u001b[0;34m\u001b[0m\u001b[0;34m\u001b[0m\u001b[0m\n\u001b[0m",
      "\u001b[0;31mNameError\u001b[0m: name 'upper_text' is not defined"
     ]
    }
   ],
   "source": [
    "(upper_text.upper())"
   ]
  },
  {
   "cell_type": "markdown",
   "id": "37c86999",
   "metadata": {},
   "source": [
    "### Exercise 4:\n",
    "Extract the first 5 characters from the string `\"Artificial Intelligence\""
   ]
  },
  {
   "cell_type": "code",
   "execution_count": null,
   "id": "1621a87f",
   "metadata": {},
   "outputs": [],
   "source": []
  },
  {
   "cell_type": "markdown",
   "id": "d99155c6",
   "metadata": {},
   "source": [
    "### Exercise 5:\n",
    "Concatenate the strings `\"Hello\"` and `\"World\"` with a space in between."
   ]
  },
  {
   "cell_type": "code",
   "execution_count": 5,
   "id": "9db7eb5c",
   "metadata": {},
   "outputs": [
    {
     "data": {
      "text/plain": [
       "'Hello+World'"
      ]
     },
     "execution_count": 5,
     "metadata": {},
     "output_type": "execute_result"
    }
   ],
   "source": [
    " "
   ]
  },
  {
   "cell_type": "markdown",
   "id": "38a96638",
   "metadata": {},
   "source": [
    "### Exercise 6:\n",
    "Replace the word `\"dog\"` with `\"cat\"` in the string `\"The quick brown dog jumps over the lazy dog.\"`.\n"
   ]
  },
  {
   "cell_type": "code",
   "execution_count": 6,
   "id": "4eb97e8e",
   "metadata": {},
   "outputs": [],
   "source": [
    "text = \"The quick brown dog jumps over the lazy dog\""
   ]
  },
  {
   "cell_type": "code",
   "execution_count": 7,
   "id": "3bcef234",
   "metadata": {},
   "outputs": [
    {
     "ename": "SyntaxError",
     "evalue": "incomplete input (4254509994.py, line 1)",
     "output_type": "error",
     "traceback": [
      "\u001b[0;36m  File \u001b[0;32m\"/tmp/ipykernel_11041/4254509994.py\"\u001b[0;36m, line \u001b[0;32m1\u001b[0m\n\u001b[0;31m    print(text.replace('dog','cat')\u001b[0m\n\u001b[0m                                   ^\u001b[0m\n\u001b[0;31mSyntaxError\u001b[0m\u001b[0;31m:\u001b[0m incomplete input\n"
     ]
    }
   ],
   "source": [
    "print(text.replace('dog','cat')"
   ]
  },
  {
   "cell_type": "markdown",
   "id": "2d3e08c3",
   "metadata": {},
   "source": [
    "### Exercise 7:\n",
    "Split the string `\"apple,banana,orange\"` by commas and store the result in a list `fruits_list`."
   ]
  },
  {
   "cell_type": "code",
   "execution_count": 8,
   "id": "78a2f1a6",
   "metadata": {},
   "outputs": [],
   "source": [
    "fuits_list = ['apple', 'banana','organge']"
   ]
  },
  {
   "cell_type": "markdown",
   "id": "5f46abfc",
   "metadata": {},
   "source": [
    "### Exercise 8:\n",
    "Use string formatting to create the sentence `\"My name is Alice and I am 25 years old.\"`, where the name and age are variables.\n"
   ]
  },
  {
   "cell_type": "code",
   "execution_count": null,
   "id": "0a02886f",
   "metadata": {},
   "outputs": [],
   "source": []
  },
  {
   "cell_type": "markdown",
   "id": "663f9059",
   "metadata": {},
   "source": [
    "### Exercise 9:\n",
    "Check if the string `\"python\"` is present in the sentence `\"I love python programming\"`."
   ]
  },
  {
   "cell_type": "code",
   "execution_count": null,
   "id": "7b8f92cc",
   "metadata": {},
   "outputs": [],
   "source": []
  },
  {
   "cell_type": "markdown",
   "id": "e16ea23f",
   "metadata": {},
   "source": [
    "ount the number of occurrences of the letter `\"e\"` in the string `\"Elephant is an elegant animal\"`.\n"
   ]
  },
  {
   "cell_type": "code",
   "execution_count": null,
   "id": "2151ad8f",
   "metadata": {},
   "outputs": [],
   "source": []
  }
 ],
 "metadata": {
  "kernelspec": {
   "display_name": "Python 3 (ipykernel)",
   "language": "python",
   "name": "python3"
  },
  "language_info": {
   "codemirror_mode": {
    "name": "ipython",
    "version": 3
   },
   "file_extension": ".py",
   "mimetype": "text/x-python",
   "name": "python",
   "nbconvert_exporter": "python",
   "pygments_lexer": "ipython3",
   "version": "3.10.12"
  }
 },
 "nbformat": 4,
 "nbformat_minor": 5
}
