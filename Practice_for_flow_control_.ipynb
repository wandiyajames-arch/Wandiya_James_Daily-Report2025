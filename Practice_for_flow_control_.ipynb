{
 "cells": [
  {
   "cell_type": "code",
   "execution_count": 2,
   "id": "ca2e9f26",
   "metadata": {},
   "outputs": [
    {
     "name": "stdout",
     "output_type": "stream",
     "text": [
      "10\n"
     ]
    }
   ],
   "source": [
    "a = 10\n",
    "print(a)"
   ]
  },
  {
   "cell_type": "code",
   "execution_count": 5,
   "id": "9200e681",
   "metadata": {},
   "outputs": [],
   "source": [
    "if a < 0:\n",
    "    print(a, \"is cool\")"
   ]
  },
  {
   "cell_type": "code",
   "execution_count": 7,
   "id": "da138307",
   "metadata": {},
   "outputs": [
    {
     "name": "stdout",
     "output_type": "stream",
     "text": [
      "10 is cool\n"
     ]
    }
   ],
   "source": [
    "if a > 0:\n",
    "    print(a, \"is cool\")"
   ]
  },
  {
   "cell_type": "markdown",
   "id": "a5b2b235",
   "metadata": {},
   "source": [
    "##To combine them usig else"
   ]
  },
  {
   "cell_type": "code",
   "execution_count": 9,
   "id": "07400597",
   "metadata": {},
   "outputs": [
    {
     "name": "stdout",
     "output_type": "stream",
     "text": [
      "45 is cool\n"
     ]
    }
   ],
   "source": [
    "a = 45\n",
    "\n",
    "if a < 0:\n",
    "    print(a, \"is cool\")\n",
    "else:\n",
    "    print(a, \"is cool\")"
   ]
  },
  {
   "cell_type": "markdown",
   "id": "e5c96133",
   "metadata": {},
   "source": [
    "elif is used to capture statement  that is not included as shown below"
   ]
  },
  {
   "cell_type": "code",
   "execution_count": 11,
   "id": "716b60ad",
   "metadata": {},
   "outputs": [
    {
     "name": "stdout",
     "output_type": "stream",
     "text": [
      "0 is really cool\n"
     ]
    }
   ],
   "source": [
    "a = 0\n",
    "\n",
    "if a < 0:\n",
    "    print(a, \"is cool\")\n",
    "elif a ==0:\n",
    "    print(a, \"is really cool\")\n",
    "else:\n",
    "    print(a, \"is cool\")"
   ]
  },
  {
   "cell_type": "markdown",
   "id": "5682ec99",
   "metadata": {},
   "source": [
    "using same statement but collect input from the user  as shown below"
   ]
  },
  {
   "cell_type": "code",
   "execution_count": 27,
   "id": "9c0e1827",
   "metadata": {},
   "outputs": [
    {
     "ename": "KeyboardInterrupt",
     "evalue": "Interrupted by user",
     "output_type": "error",
     "traceback": [
      "\u001b[0;31m---------------------------------------------------------------------------\u001b[0m",
      "\u001b[0;31mKeyboardInterrupt\u001b[0m                         Traceback (most recent call last)",
      "\u001b[0;32m/tmp/ipykernel_5703/3974504746.py\u001b[0m in \u001b[0;36m<module>\u001b[0;34m\u001b[0m\n\u001b[0;32m----> 1\u001b[0;31m \u001b[0ma\u001b[0m \u001b[0;34m=\u001b[0m \u001b[0mint\u001b[0m\u001b[0;34m(\u001b[0m\u001b[0minput\u001b[0m\u001b[0;34m(\u001b[0m\u001b[0;34m\"Enter any integer\"\u001b[0m\u001b[0;34m)\u001b[0m\u001b[0;34m)\u001b[0m\u001b[0;34m\u001b[0m\u001b[0;34m\u001b[0m\u001b[0m\n\u001b[0m\u001b[1;32m      2\u001b[0m \u001b[0;34m\u001b[0m\u001b[0m\n\u001b[1;32m      3\u001b[0m \u001b[0;34m\u001b[0m\u001b[0m\n\u001b[1;32m      4\u001b[0m \u001b[0;32mif\u001b[0m \u001b[0ma\u001b[0m \u001b[0;34m<\u001b[0m \u001b[0;36m0\u001b[0m\u001b[0;34m:\u001b[0m\u001b[0;34m\u001b[0m\u001b[0;34m\u001b[0m\u001b[0m\n\u001b[1;32m      5\u001b[0m     \u001b[0mprint\u001b[0m\u001b[0;34m(\u001b[0m\u001b[0ma\u001b[0m\u001b[0;34m,\u001b[0m \u001b[0;34m\"is cool\"\u001b[0m\u001b[0;34m)\u001b[0m\u001b[0;34m\u001b[0m\u001b[0;34m\u001b[0m\u001b[0m\n",
      "\u001b[0;32m/usr/lib/python3/dist-packages/ipykernel/kernelbase.py\u001b[0m in \u001b[0;36mraw_input\u001b[0;34m(self, prompt)\u001b[0m\n\u001b[1;32m   1042\u001b[0m                 \u001b[0;34m\"raw_input was called, but this frontend does not support input requests.\"\u001b[0m\u001b[0;34m\u001b[0m\u001b[0;34m\u001b[0m\u001b[0m\n\u001b[1;32m   1043\u001b[0m             )\n\u001b[0;32m-> 1044\u001b[0;31m         return self._input_request(\n\u001b[0m\u001b[1;32m   1045\u001b[0m             \u001b[0mstr\u001b[0m\u001b[0;34m(\u001b[0m\u001b[0mprompt\u001b[0m\u001b[0;34m)\u001b[0m\u001b[0;34m,\u001b[0m\u001b[0;34m\u001b[0m\u001b[0;34m\u001b[0m\u001b[0m\n\u001b[1;32m   1046\u001b[0m             \u001b[0mself\u001b[0m\u001b[0;34m.\u001b[0m\u001b[0m_parent_ident\u001b[0m\u001b[0;34m[\u001b[0m\u001b[0;34m\"shell\"\u001b[0m\u001b[0;34m]\u001b[0m\u001b[0;34m,\u001b[0m\u001b[0;34m\u001b[0m\u001b[0;34m\u001b[0m\u001b[0m\n",
      "\u001b[0;32m/usr/lib/python3/dist-packages/ipykernel/kernelbase.py\u001b[0m in \u001b[0;36m_input_request\u001b[0;34m(self, prompt, ident, parent, password)\u001b[0m\n\u001b[1;32m   1087\u001b[0m             \u001b[0;32mexcept\u001b[0m \u001b[0mKeyboardInterrupt\u001b[0m\u001b[0;34m:\u001b[0m\u001b[0;34m\u001b[0m\u001b[0;34m\u001b[0m\u001b[0m\n\u001b[1;32m   1088\u001b[0m                 \u001b[0;31m# re-raise KeyboardInterrupt, to truncate traceback\u001b[0m\u001b[0;34m\u001b[0m\u001b[0;34m\u001b[0m\u001b[0m\n\u001b[0;32m-> 1089\u001b[0;31m                 \u001b[0;32mraise\u001b[0m \u001b[0mKeyboardInterrupt\u001b[0m\u001b[0;34m(\u001b[0m\u001b[0;34m\"Interrupted by user\"\u001b[0m\u001b[0;34m)\u001b[0m \u001b[0;32mfrom\u001b[0m \u001b[0;32mNone\u001b[0m\u001b[0;34m\u001b[0m\u001b[0;34m\u001b[0m\u001b[0m\n\u001b[0m\u001b[1;32m   1090\u001b[0m             \u001b[0;32mexcept\u001b[0m \u001b[0mException\u001b[0m\u001b[0;34m:\u001b[0m\u001b[0;34m\u001b[0m\u001b[0;34m\u001b[0m\u001b[0m\n\u001b[1;32m   1091\u001b[0m                 \u001b[0mself\u001b[0m\u001b[0;34m.\u001b[0m\u001b[0mlog\u001b[0m\u001b[0;34m.\u001b[0m\u001b[0mwarning\u001b[0m\u001b[0;34m(\u001b[0m\u001b[0;34m\"Invalid Message:\"\u001b[0m\u001b[0;34m,\u001b[0m \u001b[0mexc_info\u001b[0m\u001b[0;34m=\u001b[0m\u001b[0;32mTrue\u001b[0m\u001b[0;34m)\u001b[0m\u001b[0;34m\u001b[0m\u001b[0;34m\u001b[0m\u001b[0m\n",
      "\u001b[0;31mKeyboardInterrupt\u001b[0m: Interrupted by user"
     ]
    }
   ],
   "source": [
    "a = int(input(\"Enter any integer\"))\n",
    "\n",
    "\n",
    "if a < 0:\n",
    "    print(a, \"is cool\")\n",
    "elif a ==0:\n",
    "    print(a, \"is really cool\")\n",
    "else:\n",
    "    print(a, \"is cool\")"
   ]
  },
  {
   "cell_type": "markdown",
   "id": "e28a2613",
   "metadata": {},
   "source": [
    "Loops: while loop and for loop"
   ]
  },
  {
   "cell_type": "markdown",
   "id": "926cb5c6",
   "metadata": {},
   "source": [
    "using for loop"
   ]
  },
  {
   "cell_type": "code",
   "execution_count": 23,
   "id": "99756086",
   "metadata": {},
   "outputs": [
    {
     "name": "stdout",
     "output_type": "stream",
     "text": [
      "x\n",
      "d\n",
      "e\n",
      "r\n",
      "f\n",
      "y\n",
      "h\n"
     ]
    }
   ],
   "source": [
    "for char in \"xderfyh\":\n",
    "    print(char)"
   ]
  },
  {
   "cell_type": "code",
   "execution_count": 26,
   "id": "af3f1e13",
   "metadata": {},
   "outputs": [
    {
     "name": "stdout",
     "output_type": "stream",
     "text": [
      "z\n",
      "c\n",
      "x\n"
     ]
    }
   ],
   "source": [
    "for char in ['xyz', 'abc', 'dcefx']:\n",
    "    print(char[-1])"
   ]
  },
  {
   "cell_type": "markdown",
   "id": "ef6ceecc",
   "metadata": {},
   "source": [
    "using while loop"
   ]
  },
  {
   "cell_type": "code",
   "execution_count": 31,
   "id": "f9c7a6de",
   "metadata": {},
   "outputs": [
    {
     "name": "stdout",
     "output_type": "stream",
     "text": [
      "1\n",
      "1\n",
      "=======\n",
      "2\n",
      "4\n",
      "=======\n",
      "3\n",
      "9\n",
      "=======\n",
      "4\n",
      "16\n",
      "=======\n",
      "5\n",
      "25\n",
      "=======\n",
      "6\n",
      "36\n",
      "=======\n"
     ]
    }
   ],
   "source": [
    "cher = 1\n",
    "while cher < 7:\n",
    "    print(cher)\n",
    "    print(cher**2)\n",
    "    print(\"=======\")\n",
    "    cher+=1"
   ]
  },
  {
   "cell_type": "markdown",
   "id": "b282382a",
   "metadata": {},
   "source": [
    "using both while and for loop"
   ]
  },
  {
   "cell_type": "code",
   "execution_count": 36,
   "id": "ffb9974e",
   "metadata": {},
   "outputs": [
    {
     "data": {
      "text/plain": [
       "[6, 0, 4]"
      ]
     },
     "execution_count": 36,
     "metadata": {},
     "output_type": "execute_result"
    }
   ],
   "source": [
    "even = []\n",
    "list_numbers = [6,7,9,0,4,3,3,1,9,5]\n",
    "\n",
    "for i in list_numbers:\n",
    "    if i%2 ==0:\n",
    "        even.append(i)\n",
    "even"
   ]
  },
  {
   "cell_type": "code",
   "execution_count": 46,
   "id": "1b6b3c41",
   "metadata": {},
   "outputs": [
    {
     "data": {
      "text/plain": [
       "37"
      ]
     },
     "execution_count": 46,
     "metadata": {},
     "output_type": "execute_result"
    }
   ],
   "source": [
    "sum_odd = 0\n",
    "\n",
    "\n",
    "for i in list_numbers:\n",
    "    if i % 2 != 0:\n",
    "        sum_odd += i\n",
    "sum_odd"
   ]
  },
  {
   "cell_type": "raw",
   "id": "d10a4bcc",
   "metadata": {},
   "source": [
    "or"
   ]
  },
  {
   "cell_type": "code",
   "execution_count": 47,
   "id": "fa97b7c5",
   "metadata": {},
   "outputs": [
    {
     "name": "stdout",
     "output_type": "stream",
     "text": [
      "The list of odd numbers is[7, 9, 3, 3, 1, 9, 5]\n",
      "The sum of odd numers is 35\n"
     ]
    }
   ],
   "source": [
    "odd = []\n",
    "list_numbers = [6,7,9,0,4,3,3,1,9,5]\n",
    "\n",
    "for i in list_numbers:\n",
    "    if i % 2 != 0:\n",
    "        odd.append(i)\n",
    "sum_odd = 0\n",
    "for j in odd:\n",
    "    sum_odd += i\n",
    "print(f'The list of odd numbers is{odd}')\n",
    "\n",
    "print(f'The sum of odd numers is {sum_odd}')"
   ]
  },
  {
   "cell_type": "code",
   "execution_count": null,
   "id": "57e1e48f",
   "metadata": {},
   "outputs": [],
   "source": []
  }
 ],
 "metadata": {
  "kernelspec": {
   "display_name": "Python [conda env:base] *",
   "language": "python",
   "name": "conda-base-py"
  },
  "language_info": {
   "codemirror_mode": {
    "name": "ipython",
    "version": 3
   },
   "file_extension": ".py",
   "mimetype": "text/x-python",
   "name": "python",
   "nbconvert_exporter": "python",
   "pygments_lexer": "ipython3",
   "version": "3.13.5"
  }
 },
 "nbformat": 4,
 "nbformat_minor": 5
}
