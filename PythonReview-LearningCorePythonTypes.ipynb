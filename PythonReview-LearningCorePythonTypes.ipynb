{
 "cells": [
  {
   "cell_type": "markdown",
   "id": "0bd34621-c27d-4c3f-8150-0abc577ddded",
   "metadata": {},
   "source": [
    "<div align=\"center\" style=\"background: linear-gradient(135deg, #fef6e4 0%, #e3f2fd 100%); border-radius: 12px; padding: 25px; box-shadow: 0 4px 15px rgba(0,0,0,0.1); margin-bottom: 15px;\">\n",
    "\n",
    "<h1 style=\"color:#ff9800; font-family: 'Trebuchet MS', sans-serif; font-weight:900; letter-spacing:1px; font-size: 2.3em;\">\n",
    "🧠 PyPro-SCiDaS\n",
    "</h1>\n",
    "\n",
    "<h3 style=\"color:#43a047; font-family:'Segoe UI', sans-serif; font-style:italic; font-size:1.4em;\">\n",
    "An Initiation to Programming using Python (Init2Py)\n",
    "</h3>\n",
    "\n",
    "<h2 style=\"color:#2196F3; font-family:'Trebuchet MS', sans-serif; font-size:1.6em; font-weight:700;\">\n",
    "🐚 Review: Learning Core Python \n",
    "</h2>\n",
    "\n",
    "<hr style=\"width:60%; border:1px solid #bbb; border-radius:5px;\">\n",
    "\n",
    "<p style=\"color:#555; font-size:0.95em; font-family:'Calibri', sans-serif;\">\n",
    "<strong>Python Proficiency for Scientific Computing and Data Science</strong>\n",
    "</p>\n",
    "\n",
    "</div>\n",
    "\n",
    "\n",
    "<div align=\"center\" style=\"\n",
    "background: linear-gradient(135deg, #f3e5f5 0%, #e8f5e9 100%);\n",
    "border-radius: 12px;\n",
    "padding: 18px 25px;\n",
    "width: 75%;\n",
    "margin: auto;\n",
    "box-shadow: 0 4px 12px rgba(0,0,0,0.08);\n",
    "font-family:'Segoe UI', sans-serif;\n",
    "\">\n",
    "\n",
    "<table style=\"border-collapse: collapse; width: 100%;\">\n",
    "  <tr>\n",
    "    <td align=\"center\" style=\"padding: 10px;\">\n",
    "      <span style=\"font-size:1.1em; color:#ff7043; font-weight:bold;\">Instructor</span><br>\n",
    "      <span style=\"color:#424242;\">Yaé Gaba</span>\n",
    "    </td>\n",
    "    <td align=\"center\" style=\"padding: 10px;\">\n",
    "      <span style=\"font-size:1.1em; color:#43a047; font-weight:bold;\">Course</span><br>\n",
    "      <span style=\"color:#424242;\">Python for Scientific Computing and Data Science</span>\n",
    "    </td>\n",
    "    <td align=\"center\" style=\"padding: 10px;\">\n",
    "      <span style=\"font-size:1.1em; color:#1e88e5; font-weight:bold;\">Date</span><br>\n",
    "      <span style=\"color:#424242;\">October 2025</span>\n",
    "    </td>\n",
    "  </tr>\n",
    "</table>\n",
    "\n",
    "</div>\n"
   ]
  },
  {
   "cell_type": "markdown",
   "id": "f624ee6f-6a80-41b9-b13f-5e03ec5c046d",
   "metadata": {},
   "source": [
    "***\n",
    "# 🧰 Python Data Types — Common **Methods**\n",
    "\n",
    "| **Type** | **Method** | **Description** | **Example** | **Result / Output** |\n",
    "|-----------|-------------|------------------|--------------|----------------------|\n",
    "| **`int`** | `bit_length()` | Returns the number of bits needed to represent the integer in binary | `(10).bit_length()` | `4` |\n",
    "| | `to_bytes(n, byteorder)` | Converts integer to bytes | `(255).to_bytes(2, 'big')` | `b'\\x00\\xff'` |\n",
    "| | `from_bytes(b, byteorder)` *(class method)* | Converts bytes to integer | `int.from_bytes(b'\\x00\\xff', 'big')` | `255` |\n",
    "| | `__add__()`, `__mul__()`, etc. | Underlying \"dunder\" methods for arithmetic operators | `(3).__add__(5)` | `8` |\n",
    "| **`float`** | `is_integer()` | Checks if a float has no decimal part | `(3.0).is_integer()` | `True` |\n",
    "| | `hex()` | Converts float to hexadecimal string representation | `(3.14).hex()` | `'0x1.91eb851eb851fp+1'` |\n",
    "| | `fromhex(s)` *(class method)* | Converts hex string back to float | `float.fromhex('0x1.91eb851eb851fp+1')` | `3.14` |\n",
    "| | `__add__()`, `__truediv__()` | Operator equivalents for `+`, `/`, etc. | `(2.5).__mul__(2)` | `5.0` |\n",
    "| **`bool`** | Inherits all `int` methods | Because `bool` is a subclass of `int` | `True + 1` | `2` |\n",
    "| **`str`** | `upper()`, `lower()`, `title()` | Change letter cases | `\"python\".upper()` | `'PYTHON'` |\n",
    "| | `strip()`, `replace(a,b)` | Remove spaces / Replace substring | `\" hi \".strip()`, `\"hi\".replace('h','H')` | `'hi'`, `'Hi'` |\n",
    "| | `split()`, `' '.join(list)` | Split or join strings | `\"a,b\".split(',')`, `' '.join(['AI','ML'])` | `['a','b']`, `'AI ML'` |\n",
    "| | `find(x)`, `count(x)` | Search occurrences | `\"banana\".count('a')` | `3` |\n",
    "| **`list`** | `append(x)`, `insert(i,x)` | Add items | `lst = [1]; lst.append(2)` | `[1,2]` |\n",
    "| | `remove(x)`, `pop(i)` | Remove items | `lst.remove(1)` | `[2]` |\n",
    "| | `sort()`, `reverse()` | Reorder elements | `lst.sort()` | `[1,2,3]` |\n",
    "| | `index(x)`, `count(x)` | Find index or frequency | `[1,2,2].count(2)` | `2` |\n",
    "| **`tuple`** | `count(x)`, `index(x)` | Count or locate element | `(1,2,2).count(2)` | `2` |\n",
    "| **`set`** | `add(x)`, `remove(x)`, `discard(x)` | Modify elements | `s={1,2}; s.add(3)` | `{1,2,3}` |\n",
    "| | `union(t)`, `intersection(t)`, `difference(t)` | Combine sets | `{1,2}.union({2,3})` | `{1,2,3}` |\n",
    "| | `issubset(t)`, `issuperset(t)` | Set relations | `{1,2}.issubset({1,2,3})` | `True` |\n",
    "| **`dict`** | `get(k)`, `update({...})` | Safe access or add pairs | `d.get('x',0)` | `0` |\n",
    "| | `keys()`, `values()`, `items()` | Retrieve structure views | `list(d.keys())` | `['a','b']` |\n",
    "| | `pop(k)`, `clear()` | Remove or empty dictionary | `d.pop('a')` | removes `'a'` |\n",
    "| **`complex`** | `.real`, `.imag`, `.conjugate()` | Access components | `z = 2+3j; z.conjugate()` | `(2-3j)` |\n",
    "| **`function`** | `.__name__`, `.__doc__` | Access metadata | `add.__name__` | `'add'` |\n",
    "\n",
    "---\n",
    "\n",
    "✅ **Notes**\n",
    "- `int`, `float`, and `complex` are *numeric classes* and support **arithmetic operators** through *special (dunder) methods* like `__add__`, `__sub__`, `__mul__`, etc.  \n",
    "- You can inspect **all methods of any object** using:  \n",
    "  ```python\n",
    "  dir(int)\n",
    "  dir(float)\n",
    "\n",
    "\n",
    "\n",
    "\n",
    "# ⚙️ Python Data Types — Common **Operations**\n",
    "\n",
    "| **Type** | **Operation** | **Description** | **Example** | **Result / Output** |\n",
    "|-----------|---------------|------------------|--------------|----------------------|\n",
    "| **`int`**, **`float`** | `+`, `-`, `*`, `/`, `//`, `%`, `**` | Arithmetic operations: add, subtract, multiply, divide, floor divide, modulo, power | `5 + 3`, `10 // 3`, `2 ** 3` | `8`, `3`, `8` |\n",
    "| | Comparisons: `==`, `!=`, `<`, `>`, `<=`, `>=` | Boolean comparisons | `5 > 2`, `3 == 4` | `True`, `False` |\n",
    "| | Type conversion | Convert between numeric types | `int(3.9)`, `float(5)` | `3`, `5.0` |\n",
    "| **`bool`** | `and`, `or`, `not` | Logical operations | `True and False`, `not True` | `False`, `False` |\n",
    "| | Comparisons | Used to test conditions | `3 > 1 and 4 > 2` | `True` |\n",
    "| **`str`** | `+` (concatenation) | Join strings | `\"Hello \" + \"World\"` | `\"Hello World\"` |\n",
    "| | `*` (repetition) | Repeat string | `\"Hi\" * 3` | `\"HiHiHi\"` |\n",
    "| | Indexing `[i]` | Access character | `\"Python\"[0]` | `'P'` |\n",
    "| | Slicing `[start:end]` | Extract substring | `\"Python\"[1:4]` | `'yth'` |\n",
    "| | Membership `in` | Check if substring exists | `'Py' in 'Python'` | `True` |\n",
    "| **`list`, `tuple`** | Indexing `[i]`, slicing `[a:b]` | Access or extract items | `lst = [1,2,3]; lst[1]` | `2` |\n",
    "| | `+`, `*` | Concatenate or repeat | `[1,2] + [3,4]`, `[1]*3` | `[1,2,3,4]`, `[1,1,1]` |\n",
    "| | Membership `in`, `not in` | Check if element exists | `2 in [1,2,3]` | `True` |\n",
    "| | Iteration `for x in lst:` | Loop through elements | `for x in (1,2,3): print(x)` | `1 2 3` |\n",
    "| **`set`** | `|`, `&`, `-`, `^` | Union, intersection, difference, symmetric diff | `{1,2}|{2,3}` | `{1,2,3}` |\n",
    "| | Membership `in` | Check presence | `2 in {1,2,3}` | `True` |\n",
    "| **`dict`** | `in` | Check if key exists | `'a' in {'a':1}` | `True` |\n",
    "| | Indexing `[key]` | Access value by key | `d['a']` | `1` |\n",
    "| | `del d[key]` | Remove key-value pair | — | — |\n",
    "| **`complex`** | `+`, `-`, `*`, `/` | Arithmetic with complex numbers | `(2+3j) * (1-1j)` | `(5+1j)` |\n",
    "| **All types** | `type(x)` | Get variable type | `type(3.14)` | `<class 'float'>` |\n",
    "\n",
    "---\n",
    "\n",
    "---\n",
    "\n",
    "✅ **Tip:**  \n",
    "- **Operations** use *symbols or Python keywords* → they’re the same across types if supported.  \n",
    "- **Methods** are *specific to the type* → accessible with dot notation (`object.method()`)."
   ]
  },
  {
   "cell_type": "markdown",
   "id": "bda344c7-0a91-48e0-811e-60a8f1217606",
   "metadata": {},
   "source": [
    "🧩 Bonus — Type Conversion Functions\n",
    "\n",
    "| **Function** | **Purpose**                     | **Example**                            |\n",
    "| ------------ | ------------------------------- | -------------------------------------- |\n",
    "| `int(x)`     | Convert to integer              | `int(3.9) → 3`                         |\n",
    "| `float(x)`   | Convert to float                | `float('2.5') → 2.5`                   |\n",
    "| `str(x)`     | Convert to string               | `str(5) → '5'`                         |\n",
    "| `bool(x)`    | Convert to boolean              | `bool(0) → False`, `bool('Hi') → True` |\n",
    "| `list(x)`    | Convert iterable to list        | `list('abc') → ['a','b','c']`          |\n",
    "| `tuple(x)`   | Convert iterable to tuple       | `tuple([1,2]) → (1,2)`                 |\n",
    "| `set(x)`     | Convert iterable to set         | `set([1,2,2]) → {1,2}`                 |\n",
    "| `dict(x)`    | Convert key-value pairs to dict | `dict([(1,'a'), (2,'b')])`             |\n"
   ]
  },
  {
   "cell_type": "code",
   "execution_count": 24,
   "id": "4de0ddea-a81b-444c-b57a-798518d19b33",
   "metadata": {},
   "outputs": [
    {
     "name": "stdout",
     "output_type": "stream",
     "text": [
      "### 🔢 INTEGER & FLOAT METHODS ###\n",
      "(-51, 4)\n",
      "False\n",
      "True\n",
      "3\n",
      "b'\\x00\\xff'\n",
      "255\n"
     ]
    }
   ],
   "source": [
    "# 🧠 EXAMPLES (WITH OUTPUT COMMENTS)\n",
    "# ---------------------------------------------------------------------------\n",
    "\n",
    "# ======================================================\n",
    "# 🔢 INTEGER & FLOAT\n",
    "# ======================================================\n",
    "\n",
    "print(\"### 🔢 INTEGER & FLOAT METHODS ###\")\n",
    "f = -12.75\n",
    "print(f.as_integer_ratio())       # (-51, 4)\n",
    "print(f.is_integer())             # False\n",
    "print((3.0).is_integer())         # True\n",
    "print((5).bit_length())           # 3\n",
    "print((255).to_bytes(2, 'big'))   # b'\\x00\\xff'\n",
    "print(int.from_bytes(b'\\x00\\xff', 'big'))  # 255"
   ]
  },
  {
   "cell_type": "code",
   "execution_count": 7,
   "id": "66dd2251-430d-4356-9e10-05ad48b181f0",
   "metadata": {},
   "outputs": [
    {
     "name": "stdout",
     "output_type": "stream",
     "text": [
      "\n",
      "### 🔢 INTEGER & FLOAT OPERATIONS ###\n",
      "7\n",
      "3\n",
      "10\n",
      "2.5\n",
      "2\n",
      "25\n",
      "1\n",
      "5\n",
      "8\n",
      "3.14\n",
      "3 5.0\n"
     ]
    }
   ],
   "source": [
    "print(\"\\n### 🔢 INTEGER & FLOAT OPERATIONS ###\")\n",
    "x, y = 5, 2\n",
    "print(x + y)      # 7\n",
    "print(x - y)      # 3\n",
    "print(x * y)      # 10\n",
    "print(x / y)      # 2.5\n",
    "print(x // y)     # 2\n",
    "print(x ** y)     # 25\n",
    "print(x % y)      # 1\n",
    "print(abs(-5))    # 5\n",
    "print(pow(2, 3))  # 8\n",
    "print(round(3.14159, 2))  # 3.14\n",
    "print(int(3.9), float(5)) # 3 5.0"
   ]
  },
  {
   "cell_type": "code",
   "execution_count": 8,
   "id": "41caadb3-3a09-42ca-8057-9bd7cbb598d5",
   "metadata": {},
   "outputs": [
    {
     "name": "stdout",
     "output_type": "stream",
     "text": [
      "\n",
      "### 💡 BOOLEAN METHODS ###\n",
      "\n",
      "### 💡 BOOLEAN OPERATIONS ###\n",
      "False\n",
      "True\n",
      "False\n",
      "True\n"
     ]
    }
   ],
   "source": [
    "# ======================================================\n",
    "# 💡 BOOLEAN\n",
    "# ======================================================\n",
    "\n",
    "print(\"\\n### 💡 BOOLEAN METHODS ###\")\n",
    "# Booleans inherit int methods (no special ones)\n",
    "\n",
    "print(\"\\n### 💡 BOOLEAN OPERATIONS ###\")\n",
    "a, b = True, False\n",
    "print(a and b)            # False\n",
    "print(a or b)             # True\n",
    "print(not a)              # False\n",
    "print(3 > 1 and 4 > 2)    # True\n"
   ]
  },
  {
   "cell_type": "code",
   "execution_count": 9,
   "id": "464eb1a3-ff4c-45f0-b491-35b3253dfe83",
   "metadata": {},
   "outputs": [
    {
     "name": "stdout",
     "output_type": "stream",
     "text": [
      "\n",
      "### 🔤 STRING METHODS ###\n",
      "PYTHON\n",
      "python\n",
      "Python\n",
      "Mython\n",
      "['a', 'b', 'c']\n",
      "AI ML\n",
      "1\n",
      "True\n",
      "True\n",
      "2\n",
      "hello\n"
     ]
    }
   ],
   "source": [
    "# ======================================================\n",
    "# 🔤 STRING\n",
    "# ======================================================\n",
    "\n",
    "print(\"\\n### 🔤 STRING METHODS ###\")\n",
    "s = \"Python\"\n",
    "print(s.upper())                   # 'PYTHON'\n",
    "print(s.lower())                   # 'python'\n",
    "print(s.title())                   # 'Python'\n",
    "print(s.replace(\"Py\", \"My\"))       # 'Mython'\n",
    "print(\"a,b,c\".split(\",\"))          # ['a', 'b', 'c']\n",
    "print(\" \".join([\"AI\", \"ML\"]))      # 'AI ML'\n",
    "print(s.count(\"o\"))                # 1\n",
    "print(s.startswith(\"Py\"))          # True\n",
    "print(s.endswith(\"on\"))            # True\n",
    "print(s.find(\"th\"))                # 2\n",
    "print(\"  hello \".strip())          # 'hello'"
   ]
  },
  {
   "cell_type": "code",
   "execution_count": 10,
   "id": "604f7e6b-a0fa-41bd-bd6e-3d202ebbf079",
   "metadata": {},
   "outputs": [
    {
     "name": "stdout",
     "output_type": "stream",
     "text": [
      "\n",
      "### 🔤 STRING OPERATIONS ###\n",
      "Hello Python\n",
      "PythonPython\n",
      "P n\n",
      "yth\n",
      "True\n",
      "6\n"
     ]
    }
   ],
   "source": [
    "print(\"\\n### 🔤 STRING OPERATIONS ###\")\n",
    "print(\"Hello \" + s)                # 'Hello Python'\n",
    "print(s * 2)                       # 'PythonPython'\n",
    "print(s[0], s[-1])                 # 'P' 'n'\n",
    "print(s[1:4])                      # 'yth'\n",
    "print(\"Py\" in s)                   # True\n",
    "print(len(s))                      # 6"
   ]
  },
  {
   "cell_type": "code",
   "execution_count": 11,
   "id": "5e1f3357-5237-47d1-bdf0-6769c56d6316",
   "metadata": {},
   "outputs": [
    {
     "name": "stdout",
     "output_type": "stream",
     "text": [
      "\n",
      "### 📋 LIST METHODS ###\n",
      "[1, 2, 3, 4]\n",
      "[1, 10, 2, 3, 4]\n",
      "[1, 10, 3, 4]\n",
      "[1, 10, 3] 4\n",
      "[1, 3, 10]\n",
      "[10, 3, 1]\n",
      "1\n",
      "0\n"
     ]
    }
   ],
   "source": [
    "# ======================================================\n",
    "# 📋 LIST\n",
    "# ======================================================\n",
    "\n",
    "print(\"\\n### 📋 LIST METHODS ###\")\n",
    "lst = [1, 2, 3]\n",
    "lst.append(4)\n",
    "print(lst)                         # [1, 2, 3, 4]\n",
    "lst.insert(1, 10)\n",
    "print(lst)                         # [1, 10, 2, 3, 4]\n",
    "lst.remove(2)\n",
    "print(lst)                         # [1, 10, 3, 4]\n",
    "popped = lst.pop()\n",
    "print(lst, popped)                 # [1, 10, 3] 4\n",
    "lst.sort()\n",
    "print(lst)                         # [1, 3, 10]\n",
    "lst.reverse()\n",
    "print(lst)                         # [10, 3, 1]\n",
    "print(lst.count(10))               # 1\n",
    "print(lst.index(10))               # 0\n"
   ]
  },
  {
   "cell_type": "code",
   "execution_count": 12,
   "id": "30e5d3dc-5b59-4708-9b94-edee6e7569e8",
   "metadata": {},
   "outputs": [
    {
     "name": "stdout",
     "output_type": "stream",
     "text": [
      "\n",
      "### 📋 LIST OPERATIONS ###\n",
      "[10, 3, 1, 5, 6]\n",
      "3\n",
      "True\n",
      "[10, 3, 1]\n",
      "3\n"
     ]
    }
   ],
   "source": [
    "print(\"\\n### 📋 LIST OPERATIONS ###\")\n",
    "lst2 = [5, 6]\n",
    "print(lst + lst2)                  # [10, 3, 1, 5, 6]\n",
    "print(lst[1])                      # 3\n",
    "print(10 in lst)                   # True\n",
    "print([x for x in lst])            # [10, 3, 1]\n",
    "print(len(lst))                    # 3\n"
   ]
  },
  {
   "cell_type": "code",
   "execution_count": 13,
   "id": "45d3e75d-3980-4ab5-b0c1-da195012c91f",
   "metadata": {},
   "outputs": [
    {
     "name": "stdout",
     "output_type": "stream",
     "text": [
      "\n",
      "### 🧱 TUPLE METHODS ###\n",
      "2\n",
      "3\n"
     ]
    }
   ],
   "source": [
    "# ======================================================\n",
    "# 🧱 TUPLE\n",
    "# ======================================================\n",
    "\n",
    "print(\"\\n### 🧱 TUPLE METHODS ###\")\n",
    "tpl = (1, 2, 2, 3)\n",
    "print(tpl.count(2))                # 2\n",
    "print(tpl.index(3))                # 3"
   ]
  },
  {
   "cell_type": "code",
   "execution_count": 14,
   "id": "e8f2c2b2-f1b9-497d-98f3-6af23b2556bb",
   "metadata": {},
   "outputs": [
    {
     "name": "stdout",
     "output_type": "stream",
     "text": [
      "\n",
      "### 🧱 TUPLE OPERATIONS ###\n",
      "1\n",
      "(2, 2)\n",
      "True\n",
      "4\n",
      "1 2 2 3\n"
     ]
    }
   ],
   "source": [
    "print(\"\\n### 🧱 TUPLE OPERATIONS ###\")\n",
    "print(tpl[0])                      # 1\n",
    "print(tpl[1:3])                    # (2, 2)\n",
    "print(3 in tpl)                    # True\n",
    "print(len(tpl))                    # 4\n",
    "a, b, c, d = tpl\n",
    "print(a, b, c, d)                  # 1 2 2 3"
   ]
  },
  {
   "cell_type": "code",
   "execution_count": 15,
   "id": "1ca278eb-dc70-4139-bedc-2f2a77310a11",
   "metadata": {},
   "outputs": [
    {
     "name": "stdout",
     "output_type": "stream",
     "text": [
      "\n",
      "### 🔣 SET METHODS ###\n",
      "{1, 2, 3, 6}\n",
      "{1, 2, 3, 6}\n",
      "{2, 3, 6}\n",
      "True\n",
      "True\n",
      "{3, 6}\n",
      "{2, 3, 6, 7, 8}\n"
     ]
    }
   ],
   "source": [
    "# ======================================================\n",
    "# 🔣 SET\n",
    "# ======================================================\n",
    "\n",
    "print(\"\\n### 🔣 SET METHODS ###\")\n",
    "s1, s2 = {1, 2, 3}, {3, 4, 5}\n",
    "s1.add(6)\n",
    "print(s1)                          # {1, 2, 3, 6}\n",
    "s1.discard(10)\n",
    "print(s1)                          # {1, 2, 3, 6}\n",
    "s1.remove(1)\n",
    "print(s1)                          # {2, 3, 6}\n",
    "print({2, 3}.issubset(s1))         # True\n",
    "print(s1.issuperset({2}))          # True\n",
    "print(s1.intersection({3, 6, 9}))  # {3, 6}\n",
    "print(s1.union({7, 8}))            # {2, 3, 6, 7, 8}"
   ]
  },
  {
   "cell_type": "code",
   "execution_count": 16,
   "id": "ab6b534a-4fb1-4665-a371-a6cf00e5fcc2",
   "metadata": {},
   "outputs": [
    {
     "name": "stdout",
     "output_type": "stream",
     "text": [
      "\n",
      "### 🔣 SET OPERATIONS ###\n",
      "{1, 2, 3, 4, 5}\n",
      "{3}\n",
      "{1, 2}\n",
      "{1, 2, 4, 5}\n",
      "True\n",
      "3\n"
     ]
    }
   ],
   "source": [
    "print(\"\\n### 🔣 SET OPERATIONS ###\")\n",
    "s1, s2 = {1, 2, 3}, {3, 4, 5}\n",
    "print(s1 | s2)                     # {1, 2, 3, 4, 5}\n",
    "print(s1 & s2)                     # {3}\n",
    "print(s1 - s2)                     # {1, 2}\n",
    "print(s1 ^ s2)                     # {1, 2, 4, 5}\n",
    "print(2 in s1)                     # True\n",
    "print(len(s1))                     # 3\n"
   ]
  },
  {
   "cell_type": "code",
   "execution_count": 17,
   "id": "8b6e5b30-1fa6-46bc-8ce5-e01dddf35a2c",
   "metadata": {},
   "outputs": [
    {
     "name": "stdout",
     "output_type": "stream",
     "text": [
      "\n",
      "### 🗂️ DICTIONARY METHODS ###\n",
      "['a', 'b']\n",
      "[1, 2]\n",
      "[('a', 1), ('b', 2)]\n",
      "1\n",
      "0\n",
      "{'a': 1, 'b': 2, 'c': 3}\n",
      "{'a': 1, 'c': 3} 2\n",
      "{'a': 1, 'c': 3, 'z': 99}\n",
      "{}\n"
     ]
    }
   ],
   "source": [
    "# ======================================================\n",
    "# 🗂️ DICTIONARY\n",
    "# ======================================================\n",
    "\n",
    "print(\"\\n### 🗂️ DICTIONARY METHODS ###\")\n",
    "d = {'a': 1, 'b': 2}\n",
    "print(list(d.keys()))              # ['a', 'b']\n",
    "print(list(d.values()))            # [1, 2]\n",
    "print(list(d.items()))             # [('a', 1), ('b', 2)]\n",
    "print(d.get('a'))                  # 1\n",
    "print(d.get('x', 0))               # 0\n",
    "d.update({'c': 3})\n",
    "print(d)                           # {'a': 1, 'b': 2, 'c': 3}\n",
    "removed = d.pop('b')\n",
    "print(d, removed)                  # {'a': 1, 'c': 3} 2\n",
    "d.setdefault('z', 99)\n",
    "print(d)                           # {'a': 1, 'c': 3, 'z': 99}\n",
    "d.clear()\n",
    "print(d)                           # {}"
   ]
  },
  {
   "cell_type": "code",
   "execution_count": 18,
   "id": "a39c3eed-8c78-48ad-89a5-11376ef77280",
   "metadata": {},
   "outputs": [
    {
     "name": "stdout",
     "output_type": "stream",
     "text": [
      "\n",
      "### 🗂️ DICTIONARY OPERATIONS ###\n",
      "1\n",
      "True\n",
      "2\n"
     ]
    }
   ],
   "source": [
    "print(\"\\n### 🗂️ DICTIONARY OPERATIONS ###\")\n",
    "d = {'a': 1, 'b': 2}\n",
    "print(d['a'])                      # 1\n",
    "print('a' in d)                    # True\n",
    "print(len(d))                      # 2"
   ]
  },
  {
   "cell_type": "code",
   "execution_count": 19,
   "id": "cd7e4e88-c908-459f-8475-314970df0d3b",
   "metadata": {},
   "outputs": [
    {
     "name": "stdout",
     "output_type": "stream",
     "text": [
      "\n",
      "### ⚙️ COMPLEX METHODS ###\n",
      "2.0\n",
      "3.0\n",
      "(2-3j)\n"
     ]
    }
   ],
   "source": [
    "# ======================================================\n",
    "# ⚙️ COMPLEX NUMBERS\n",
    "# ======================================================\n",
    "\n",
    "print(\"\\n### ⚙️ COMPLEX METHODS ###\")\n",
    "z = 2 + 3j\n",
    "print(z.real)                      # 2.0\n",
    "print(z.imag)                      # 3.0\n",
    "print(z.conjugate())               # (2-3j)\n"
   ]
  },
  {
   "cell_type": "code",
   "execution_count": 20,
   "id": "4b5e7b77-34f4-4958-865c-5a9d57195223",
   "metadata": {},
   "outputs": [
    {
     "name": "stdout",
     "output_type": "stream",
     "text": [
      "\n",
      "### ⚙️ COMPLEX OPERATIONS ###\n",
      "(2+3j)\n",
      "(5+1j)\n",
      "3.605551275463989\n"
     ]
    }
   ],
   "source": [
    "print(\"\\n### ⚙️ COMPLEX OPERATIONS ###\")\n",
    "print(z)                           # (2+3j)\n",
    "print((2 + 3j) * (1 - 1j))         # (5+1j)\n",
    "print(abs(z))                      # 3.605551275463989"
   ]
  },
  {
   "cell_type": "code",
   "execution_count": 21,
   "id": "0c3a76ba-af5e-4ae1-829a-b96e9485b107",
   "metadata": {},
   "outputs": [
    {
     "name": "stdout",
     "output_type": "stream",
     "text": [
      "\n",
      "### 🧩 FUNCTION ATTRIBUTES ###\n",
      "add\n",
      "Return the sum of two numbers.\n"
     ]
    }
   ],
   "source": [
    "# ======================================================\n",
    "# 🧩 FUNCTIONS\n",
    "# ======================================================\n",
    "\n",
    "print(\"\\n### 🧩 FUNCTION ATTRIBUTES ###\")\n",
    "def add(a, b):\n",
    "    \"\"\"Return the sum of two numbers.\"\"\"\n",
    "    return a + b\n",
    "\n",
    "print(add.__name__)                # 'add'\n",
    "print(add.__doc__)                 # 'Return the sum of two numbers.'\n"
   ]
  },
  {
   "cell_type": "code",
   "execution_count": 22,
   "id": "9ee3d068-f3dd-4b4d-8656-f6c4c5ef541a",
   "metadata": {},
   "outputs": [
    {
     "name": "stdout",
     "output_type": "stream",
     "text": [
      "\n",
      "### 🧩 FUNCTION USAGE ###\n",
      "5\n"
     ]
    }
   ],
   "source": [
    "print(\"\\n### 🧩 FUNCTION USAGE ###\")\n",
    "print(add(2, 3))                   # 5"
   ]
  },
  {
   "cell_type": "code",
   "execution_count": 23,
   "id": "6ade96df-43f0-4b8c-8a1c-eded3d0abd57",
   "metadata": {},
   "outputs": [
    {
     "name": "stdout",
     "output_type": "stream",
     "text": [
      "\n",
      "### 🚫 NoneType ###\n",
      "None\n",
      "<class 'NoneType'>\n",
      "True\n"
     ]
    }
   ],
   "source": [
    "# ======================================================\n",
    "# 🚫 NoneType\n",
    "# ======================================================\n",
    "\n",
    "print(\"\\n### 🚫 NoneType ###\")\n",
    "x = None\n",
    "print(x)                           # None\n",
    "print(type(x))                     # <class 'NoneType'>\n",
    "print(x is None)                   # True"
   ]
  }
 ],
 "metadata": {
  "kernelspec": {
   "display_name": "Python 3 (ipykernel)",
   "language": "python",
   "name": "python3"
  },
  "language_info": {
   "codemirror_mode": {
    "name": "ipython",
    "version": 3
   },
   "file_extension": ".py",
   "mimetype": "text/x-python",
   "name": "python",
   "nbconvert_exporter": "python",
   "pygments_lexer": "ipython3",
   "version": "3.13.9"
  }
 },
 "nbformat": 4,
 "nbformat_minor": 5
}
